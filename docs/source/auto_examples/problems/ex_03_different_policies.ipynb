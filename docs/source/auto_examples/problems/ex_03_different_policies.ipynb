{
  "cells": [
    {
      "cell_type": "code",
      "execution_count": null,
      "metadata": {
        "collapsed": false
      },
      "outputs": [],
      "source": [
        "%matplotlib inline"
      ]
    },
    {
      "cell_type": "markdown",
      "metadata": {},
      "source": [
        "# Using different policies\n"
      ]
    },
    {
      "cell_type": "markdown",
      "metadata": {},
      "source": [
        "This example shows how to use different policies.\n\nA policy is the rule which sets of transport maps are computed given\ndifferent distributions of cells.\n\nSome problem classes require a certain policy, e.g. the\n`moscot.problems.space.MappingProblem`{.interpreted-text role=\"class\"}\nonly works with the\n`moscot.problems._subset_policy.ExternalStarPolicy`{.interpreted-text\nrole=\"class\"} meaning that all spatial batches from the\n`anndata.AnnData`{.interpreted-text role=\"class\"} object are mapped to\nthe same single cell reference cell distribution.\n\nEach problem class has a set of valid policies. For the\n`moscot.problems.time.LineageProblem`{.interpreted-text role=\"class\"}\nand the `moscot.problems.time.TemporalProblem`{.interpreted-text\nrole=\"class\"} we can choose among different policies which we\ndemonstrate below.\n"
      ]
    },
    {
      "cell_type": "code",
      "execution_count": null,
      "metadata": {
        "collapsed": false
      },
      "outputs": [],
      "source": [
        "from moscot.datasets import simulation\nfrom moscot.problems.time import TemporalProblem\n\nadata = simulation(size=15360)"
      ]
    },
    {
      "cell_type": "markdown",
      "metadata": {},
      "source": [
        "This simulated dataset contains single cell data across 4 time point,\ni.e. day 11.0, 12.0, 13.0 and 14.0.\n\nThe policy allows us to determine which transport maps we want to\ncompute.\n"
      ]
    },
    {
      "cell_type": "markdown",
      "metadata": {},
      "source": [
        "# Different policies\n"
      ]
    },
    {
      "cell_type": "code",
      "execution_count": null,
      "metadata": {
        "collapsed": false
      },
      "outputs": [],
      "source": [
        "# In the following, we consider a few policies which can be used for the\n# :class:`moscot.problems.time.TemporalProblem`."
      ]
    },
    {
      "cell_type": "markdown",
      "metadata": {},
      "source": [
        "# Sequential policy\n"
      ]
    },
    {
      "cell_type": "markdown",
      "metadata": {},
      "source": [
        "We start with the default policy, which is the sequential policy. The\nfollowing code shows which OT problems are prepared to be solved.\n"
      ]
    },
    {
      "cell_type": "code",
      "execution_count": null,
      "metadata": {
        "collapsed": false
      },
      "outputs": [],
      "source": [
        "tp_sequential = TemporalProblem(adata)\ntp_sequential = tp_sequential.prepare(time_key=\"day\", policy=\"sequential\")\ntp_sequential.problems"
      ]
    },
    {
      "cell_type": "markdown",
      "metadata": {},
      "source": [
        "We see that all consecutive pairs of values in the\n[time_key]{.title-ref} column are used to create an OT problem\n"
      ]
    },
    {
      "cell_type": "markdown",
      "metadata": {},
      "source": [
        "# Upper triangular policy\n"
      ]
    },
    {
      "cell_type": "code",
      "execution_count": null,
      "metadata": {
        "collapsed": false
      },
      "outputs": [],
      "source": [
        "tp_triu = TemporalProblem(adata)\ntp_triu = tp_triu.prepare(time_key=\"day\", policy=\"triu\")\ntp_triu.problems"
      ]
    },
    {
      "cell_type": "markdown",
      "metadata": {},
      "source": [
        "# Explicit policy\n"
      ]
    },
    {
      "cell_type": "code",
      "execution_count": null,
      "metadata": {
        "collapsed": false
      },
      "outputs": [],
      "source": [
        "tp_expl = TemporalProblem(adata)\ntp_expl = tp_expl.prepare(time_key=\"day\", policy=\"explicit\", subset=[(10, 11), (12, 13), (10, 13)])\ntp_expl.problems"
      ]
    },
    {
      "cell_type": "markdown",
      "metadata": {},
      "source": [
        "# Using the [filter]{.title-ref} argument\n"
      ]
    },
    {
      "cell_type": "markdown",
      "metadata": {},
      "source": [
        "If we want to use the sequential policy but restrict it to a certain\nsubset of distributions we can use the [filter]{.title-ref} argument.\n"
      ]
    },
    {
      "cell_type": "code",
      "execution_count": null,
      "metadata": {
        "collapsed": false
      },
      "outputs": [],
      "source": [
        "tp_filtered = TemporalProblem(adata)\ntp_filtered = tp_filtered.prepare(time_key=\"day\", policy=\"sequential\", filter=[10, 12, 13])\ntp_filtered.problems"
      ]
    },
    {
      "cell_type": "markdown",
      "metadata": {},
      "source": [
        "Analogously, the [filter]{.title-ref} argument can also be applied to\nother policies, e.g. the upper triangular policy.\n"
      ]
    }
  ],
  "metadata": {
    "kernelspec": {
      "display_name": "Python 3",
      "language": "python",
      "name": "python3"
    },
    "language_info": {
      "codemirror_mode": {
        "name": "ipython",
        "version": 3
      },
      "file_extension": ".py",
      "mimetype": "text/x-python",
      "name": "python",
      "nbconvert_exporter": "python",
      "pygments_lexer": "ipython3",
      "version": "3.9.13"
    }
  },
  "nbformat": 4,
  "nbformat_minor": 0
}