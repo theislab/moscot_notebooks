{
 "cells": [
  {
   "cell_type": "markdown",
   "metadata": {},
   "source": [
    "# test"
   ]
  }
 ],
 "metadata": {
  "kernelspec": {
   "display_name": "Python 3.8.13 ('moscot_env')",
   "language": "python",
   "name": "python3"
  },
  "language_info": {
   "name": "python",
   "version": "3.8.13"
  },
  "orig_nbformat": 4,
  "vscode": {
   "interpreter": {
    "hash": "4e2344c624f3ed36ef172edeb225fb19e0a1efdeea114ce4dee0d49eefdf4910"
   }
  }
 },
 "nbformat": 4,
 "nbformat_minor": 2
}
