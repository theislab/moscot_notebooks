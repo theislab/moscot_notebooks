{
 "cells": [
  {
   "cell_type": "markdown",
   "id": "70c2902d",
   "metadata": {
    "cell_marker": "\"\"\""
   },
   "source": [
    "# Quadratic problems\n",
    "\n",
    "This example shows how to solve quadratic problems, e.g., the {class}`~moscot.problems.time.LineageProblem`, the {class}`~moscot.problems.spatiotemporal.SpatioTemporalProblem`, the {class}`~moscot.problems.space.MappingProblem`, the {class}`~moscot.problems.space.AlignmentProblem`, the {class}`~moscot.problems.generic.GWProblem`, and the {class}`~moscot.problems.generic.FGWProblem`.\n",
    "\n",
    ":::{seealso}\n",
    "- See {doc}`400_quad_problems_advanced` for an advanced example on how to solve quadratic problems.\n",
    "- See {doc}`100_linear_problems_basic` for an introduction on how to solve linear problems.\n",
    "- See {doc}`200_linear_problems_advanced` for an advanced example on how to solve linear problems.\n",
    ":::"
   ]
  },
  {
   "cell_type": "markdown",
   "id": "3e50e74c",
   "metadata": {},
   "source": [
    "## Imports and data loading"
   ]
  },
  {
   "cell_type": "code",
   "execution_count": 1,
   "id": "0d096b9e",
   "metadata": {},
   "outputs": [],
   "source": [
    "import warnings\n",
    "\n",
    "warnings.simplefilter(\"ignore\", FutureWarning)\n",
    "\n",
    "from moscot import datasets\n",
    "from moscot.problems.generic import FGWProblem, GWProblem\n",
    "\n",
    "import numpy as np\n",
    "\n",
    "import scanpy as sc"
   ]
  },
  {
   "cell_type": "markdown",
   "id": "7be35274",
   "metadata": {},
   "source": [
    "Simulate data using {func}`~moscot.datasets.simulate_data`."
   ]
  },
  {
   "cell_type": "code",
   "execution_count": 2,
   "id": "31f548bb",
   "metadata": {},
   "outputs": [
    {
     "data": {
      "text/plain": [
       "AnnData object with n_obs × n_vars = 40 × 60\n",
       "    obs: 'batch', 'celltype'\n",
       "    uns: 'pca'\n",
       "    obsm: 'spatial', 'X_pca'\n",
       "    varm: 'PCs'"
      ]
     },
     "execution_count": 2,
     "metadata": {},
     "output_type": "execute_result"
    }
   ],
   "source": [
    "adata = datasets.simulate_data(n_distributions=2, key=\"batch\", quad_term=\"spatial\")\n",
    "sc.pp.pca(adata)\n",
    "adata"
   ]
  },
  {
   "cell_type": "markdown",
   "id": "ca4d664d",
   "metadata": {},
   "source": [
    "## Basic parameters\n",
    "\n",
    "There are some parameters in quadratic problems which play the same role as in linear problems. Hence, we refer to {doc}`100_linear_problems_basic` for the role of `epsilon`, `tau_a`, and `tau_b`. In fused quadratic problems (also referred to as Fused Gromov-Wasserstein) there is an additional parameter `alpha` defining the convex combination between the quadratic and the linear term, defined by `joint_attr`. Setting ``alpha = 1`` only considers the pure quadratic problem, ignoring `joint_attr`. Setting `alpha = 0` is not possible, and hence linear problems must be chosen."
   ]
  },
  {
   "cell_type": "code",
   "execution_count": 3,
   "id": "ee4340c2",
   "metadata": {},
   "outputs": [
    {
     "name": "stdout",
     "output_type": "stream",
     "text": [
      "\u001b[34mINFO    \u001b[0m Solving `\u001b[1;36m1\u001b[0m` problems                                                                                      \n",
      "\u001b[34mINFO    \u001b[0m Solving problem OTProblem\u001b[1m[\u001b[0m\u001b[33mstage\u001b[0m=\u001b[32m'prepared'\u001b[0m, \u001b[33mshape\u001b[0m=\u001b[1m(\u001b[0m\u001b[1;36m20\u001b[0m, \u001b[1;36m20\u001b[0m\u001b[1m)\u001b[0m\u001b[1m]\u001b[0m.                                              \n"
     ]
    },
    {
     "name": "stderr",
     "output_type": "stream",
     "text": [
      "No GPU/TPU found, falling back to CPU. (Set TF_CPP_MIN_LOG_LEVEL=0 and rerun for more info.)\n"
     ]
    },
    {
     "name": "stdout",
     "output_type": "stream",
     "text": [
      "\u001b[34mINFO    \u001b[0m Solving `\u001b[1;36m1\u001b[0m` problems                                                                                      \n",
      "\u001b[34mINFO    \u001b[0m Solving problem OTProblem\u001b[1m[\u001b[0m\u001b[33mstage\u001b[0m=\u001b[32m'prepared'\u001b[0m, \u001b[33mshape\u001b[0m=\u001b[1m(\u001b[0m\u001b[1;36m20\u001b[0m, \u001b[1;36m20\u001b[0m\u001b[1m)\u001b[0m\u001b[1m]\u001b[0m.                                              \n",
      "max difference: 0.021854\n"
     ]
    }
   ],
   "source": [
    "gwp = GWProblem(adata)\n",
    "gwp = gwp.prepare(\n",
    "    key=\"batch\",\n",
    "    x_attr={\"attr\": \"obsm\", \"key\": \"spatial\"},\n",
    "    y_attr={\"attr\": \"obsm\", \"key\": \"spatial\"},\n",
    ")\n",
    "gwp = gwp.solve(epsilon=1e-1)\n",
    "\n",
    "fgwp = FGWProblem(adata)\n",
    "fgwp = fgwp.prepare(\n",
    "    key=\"batch\",\n",
    "    x_attr={\"attr\": \"obsm\", \"key\": \"spatial\"},\n",
    "    y_attr={\"attr\": \"obsm\", \"key\": \"spatial\"},\n",
    "    joint_attr=\"X_pca\",\n",
    ")\n",
    "fgwp = fgwp.solve(epsilon=1e-1, alpha=0.5)\n",
    "\n",
    "max_difference = np.max(\n",
    "    np.abs(\n",
    "        gwp[\"0\", \"1\"].solution.transport_matrix\n",
    "        - fgwp[\"0\", \"1\"].solution.transport_matrix\n",
    "    )\n",
    ")\n",
    "print(f\"max difference: {max_difference:.6f}\")"
   ]
  },
  {
   "cell_type": "markdown",
   "id": "299b9441",
   "metadata": {
    "lines_to_next_cell": 0
   },
   "source": [
    "## Low-rank solutions\n",
    "\n",
    "Whenever the dataset is very large, the computational complexity can be\n",
    "reduced by setting `rank` to a positive integer {cite}`scetbon:21a`. In this\n",
    "case, `epsilon` can also be set to $0$, while only the balanced case\n",
    "($\\text{tau}_a = \\text{tau}_b = 1$) is supported. Moreover, the data has to be provided\n",
    "as point clouds, i.e., no precomputed cost matrix can be passed."
   ]
  },
  {
   "cell_type": "code",
   "execution_count": 4,
   "id": "d7503310",
   "metadata": {},
   "outputs": [
    {
     "name": "stdout",
     "output_type": "stream",
     "text": [
      "\u001b[34mINFO    \u001b[0m Solving `\u001b[1;36m1\u001b[0m` problems                                                                                      \n",
      "\u001b[34mINFO    \u001b[0m Solving problem OTProblem\u001b[1m[\u001b[0m\u001b[33mstage\u001b[0m=\u001b[32m'solved'\u001b[0m, \u001b[33mshape\u001b[0m=\u001b[1m(\u001b[0m\u001b[1;36m20\u001b[0m, \u001b[1;36m20\u001b[0m\u001b[1m)\u001b[0m\u001b[1m]\u001b[0m.                                                \n"
     ]
    }
   ],
   "source": [
    "gwp = gwp.solve(epsilon=1e-2, rank=3)"
   ]
  },
  {
   "cell_type": "markdown",
   "id": "f53f7388",
   "metadata": {},
   "source": [
    "## Scaling the cost\n",
    "\n",
    "`scale_cost` parameter works the same way as for linear problems, see {doc}`100_linear_problems_basic` for more information. Note that all cost terms will be scaled by the same argument."
   ]
  }
 ],
 "metadata": {
  "jupytext": {
   "cell_metadata_filter": "-all",
   "executable": "/usr/bin/env python",
   "main_language": "python",
   "notebook_metadata_filter": "-all"
  },
  "kernelspec": {
   "display_name": "moscot",
   "language": "python",
   "name": "python3"
  },
  "language_info": {
   "codemirror_mode": {
    "name": "ipython",
    "version": 3
   },
   "file_extension": ".py",
   "mimetype": "text/x-python",
   "name": "python",
   "nbconvert_exporter": "python",
   "pygments_lexer": "ipython3",
   "version": "3.11.5"
  }
 },
 "nbformat": 4,
 "nbformat_minor": 5
}
