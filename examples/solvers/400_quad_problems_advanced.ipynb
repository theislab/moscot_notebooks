{
 "cells": [
  {
   "cell_type": "markdown",
   "id": "8b788a7c",
   "metadata": {
    "cell_marker": "\"\"\""
   },
   "source": [
    "# Quadratic problems (advanced)\n",
    "\n",
    "This example shows an advanced quadratic problems usage, e.g., the {class}`~moscot.problems.time.LineageProblem`, the {class}`~moscot.problems.spatiotemporal.SpatioTemporalProblem`, the {class}`~moscot.problems.space.MappingProblem`, the {class}`~moscot.problems.space.AlignmentProblem`, the {class}`~moscot.problems.generic.GWProblem`, and the {class}`~moscot.problems.generic.FGWProblem`.\n",
    "\n",
    ":::{seealso}\n",
    "- See {doc}`300_quad_problems_basic` for an introduction on how to solve quadratic problems.\n",
    "- See {doc}`100_linear_problems_basic` for an introduction on how to solve linear problems.\n",
    "- See {doc}`200_linear_problems_advanced` for an advanced example on how to solve linear problems.\n",
    ":::"
   ]
  },
  {
   "cell_type": "markdown",
   "id": "3b441609",
   "metadata": {},
   "source": [
    "## Imports and data loading"
   ]
  },
  {
   "cell_type": "code",
   "execution_count": 1,
   "id": "12371ed2",
   "metadata": {},
   "outputs": [],
   "source": [
    "import warnings\n",
    "\n",
    "warnings.simplefilter(\"ignore\", FutureWarning)\n",
    "\n",
    "from moscot import datasets\n",
    "from moscot.problems.generic import GWProblem\n",
    "\n",
    "import scanpy as sc"
   ]
  },
  {
   "cell_type": "markdown",
   "id": "0cba49e7",
   "metadata": {},
   "source": [
    "Simulate data using {func}`~moscot.datasets.simulate_data`."
   ]
  },
  {
   "cell_type": "code",
   "execution_count": 2,
   "id": "c199511a",
   "metadata": {},
   "outputs": [
    {
     "data": {
      "text/plain": [
       "AnnData object with n_obs × n_vars = 40 × 60\n",
       "    obs: 'batch', 'celltype'\n",
       "    uns: 'pca'\n",
       "    obsm: 'spatial', 'X_pca'\n",
       "    varm: 'PCs'"
      ]
     },
     "execution_count": 2,
     "metadata": {},
     "output_type": "execute_result"
    }
   ],
   "source": [
    "adata = datasets.simulate_data(n_distributions=2, key=\"batch\", quad_term=\"spatial\")\n",
    "sc.pp.pca(adata)\n",
    "adata"
   ]
  },
  {
   "cell_type": "code",
   "execution_count": 3,
   "id": "bcd55475",
   "metadata": {},
   "outputs": [
    {
     "data": {
      "text/plain": [
       "GWProblem[('0', '1')]"
      ]
     },
     "execution_count": 3,
     "metadata": {},
     "output_type": "execute_result"
    }
   ],
   "source": [
    "gwp = GWProblem(adata)\n",
    "gwp = gwp.prepare(\n",
    "    key=\"batch\",\n",
    "    x_attr={\"attr\": \"obsm\", \"key\": \"spatial\"},\n",
    "    y_attr={\"attr\": \"obsm\", \"key\": \"spatial\"},\n",
    ")\n",
    "gwp"
   ]
  },
  {
   "cell_type": "markdown",
   "id": "de9753a3",
   "metadata": {},
   "source": [
    "## Threshold\n",
    "\n",
    "The `threshold` parameter defines the convergence criterion. In the balanced\n",
    "setting the `threshold` denotes the deviation between prior and posterior\n",
    "marginals, while in the unbalanced setting the `threshold` corresponds to\n",
    "a Cauchy sequence stopping criterion."
   ]
  },
  {
   "cell_type": "markdown",
   "id": "f21fc477",
   "metadata": {},
   "source": [
    "## Initializers\n",
    "\n",
    "Different Initializers can help to improve convergence. For the full-rank\n",
    "case only the default initializer exists, hence the `initializer` argument\n",
    "must be set to {obj}`None`.\n",
    "\n",
    "For low-rank problems the same initializers as for the linear low-rank solvers\n",
    "are available, and `initializer_kwargs` can be passed the same way, see {doc}`200_linear_problems_advanced` for more information."
   ]
  },
  {
   "cell_type": "markdown",
   "id": "c8fa54a9",
   "metadata": {
    "lines_to_next_cell": 0
   },
   "source": [
    "## Number of iterations\n",
    "\n",
    "To solve a quadratic optimal transport problem, a consecutively-updated linearized\n",
    "problem is solved. Here, `min_iterations` denotes a lower bound and `max_iterations` an upper bound on the number of outer iterations. If `max_iterations` is too low, the solver might not converge."
   ]
  },
  {
   "cell_type": "code",
   "execution_count": 4,
   "id": "bb284ff0",
   "metadata": {},
   "outputs": [
    {
     "name": "stdout",
     "output_type": "stream",
     "text": [
      "\u001b[34mINFO    \u001b[0m Solving `\u001b[1;36m1\u001b[0m` problems                                                                                      \n",
      "\u001b[34mINFO    \u001b[0m Solving problem OTProblem\u001b[1m[\u001b[0m\u001b[33mstage\u001b[0m=\u001b[32m'prepared'\u001b[0m, \u001b[33mshape\u001b[0m=\u001b[1m(\u001b[0m\u001b[1;36m20\u001b[0m, \u001b[1;36m20\u001b[0m\u001b[1m)\u001b[0m\u001b[1m]\u001b[0m.                                              \n"
     ]
    },
    {
     "name": "stderr",
     "output_type": "stream",
     "text": [
      "No GPU/TPU found, falling back to CPU. (Set TF_CPP_MIN_LOG_LEVEL=0 and rerun for more info.)\n"
     ]
    },
    {
     "name": "stdout",
     "output_type": "stream",
     "text": [
      "\u001b[31mWARNING \u001b[0m Solver did not converge                                                                                   \n"
     ]
    }
   ],
   "source": [
    "gwp = gwp.solve(epsilon=1e-1, min_iterations=0, max_iterations=1)"
   ]
  },
  {
   "cell_type": "markdown",
   "id": "4b11bd89",
   "metadata": {
    "lines_to_next_cell": 0
   },
   "source": [
    "## Linear solver keyword arguments\n",
    "\n",
    "As mentioned above, each outer loop step of the Gromov-Wasserstein algorithm\n",
    "consists of solving a linear problem. Arguments for the linear solver can\n",
    "be specified via `linear_solver_kwargs`, keyword arguments for\n",
    "{class}`~ott.solvers.linear.sinkhorn.Sinkhorn` in the full-rank case or keyword arguments\n",
    "for {class}`~ott.solvers.linear.sinkhorn_lr.LRSinkhorn`, respectively. This way, we can\n",
    "also set the minimum and maximum number of iterations for the linear solver:"
   ]
  },
  {
   "cell_type": "code",
   "execution_count": 5,
   "id": "2e461ea7",
   "metadata": {},
   "outputs": [
    {
     "name": "stdout",
     "output_type": "stream",
     "text": [
      "\u001b[34mINFO    \u001b[0m Solving `\u001b[1;36m1\u001b[0m` problems                                                                                      \n",
      "\u001b[34mINFO    \u001b[0m Solving problem OTProblem\u001b[1m[\u001b[0m\u001b[33mstage\u001b[0m=\u001b[32m'solved'\u001b[0m, \u001b[33mshape\u001b[0m=\u001b[1m(\u001b[0m\u001b[1;36m20\u001b[0m, \u001b[1;36m20\u001b[0m\u001b[1m)\u001b[0m\u001b[1m]\u001b[0m.                                                \n"
     ]
    }
   ],
   "source": [
    "ls_kwargs = {\"min_iterations\": 10, \"max_iterations\": 1000, \"threshold\": 0.01}\n",
    "gwp = gwp.solve(\n",
    "    epsilon=1e-1,\n",
    "    threshold=0.1,\n",
    "    min_iterations=2,\n",
    "    max_iterations=20,\n",
    "    linear_solver_kwargs=ls_kwargs,\n",
    ")"
   ]
  },
  {
   "cell_type": "markdown",
   "id": "6e17c53a",
   "metadata": {},
   "source": [
    "## Low-rank hyperparameters\n",
    "\n",
    "The parameters `gamma` and `gamma_rescale` are the same as in the linear case, see example {doc}`200_linear_problems_advanced`.\n",
    "\n",
    "<!--- #It remains to consider ``ranks`` and ``tolerances``. --->"
   ]
  },
  {
   "cell_type": "markdown",
   "id": "bd200bc0",
   "metadata": {},
   "source": [
    "## Keyword arguments and implementation details\n",
    "\n",
    "Whenever the `solve` method of a quadratic problem is called, a backend-specific quadratic solver is instantiated. Currently, {mod}`ott` is supported, its corresponding quadratic solvers is {class}`~ott.solvers.quadratic.gromov_wasserstein.GromovWasserstein`, handling both the full-rank and the low-rank case. {mod}`moscot` wraps this class in {class}`~moscot.backends.ott.GWSolver`, handling both the purely quadratic and the fused quadratic problem."
   ]
  }
 ],
 "metadata": {
  "jupytext": {
   "cell_metadata_filter": "-all",
   "executable": "/usr/bin/env python",
   "main_language": "python",
   "notebook_metadata_filter": "-all"
  },
  "kernelspec": {
   "display_name": "moscot",
   "language": "python",
   "name": "python3"
  },
  "language_info": {
   "codemirror_mode": {
    "name": "ipython",
    "version": 3
   },
   "file_extension": ".py",
   "mimetype": "text/x-python",
   "name": "python",
   "nbconvert_exporter": "python",
   "pygments_lexer": "ipython3",
   "version": "3.11.5"
  }
 },
 "nbformat": 4,
 "nbformat_minor": 5
}
