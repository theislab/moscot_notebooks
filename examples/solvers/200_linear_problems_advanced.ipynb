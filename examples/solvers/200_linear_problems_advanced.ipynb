{
 "cells": [
  {
   "cell_type": "markdown",
   "id": "e6fecba7",
   "metadata": {
    "cell_marker": "\"\"\""
   },
   "source": [
    "# Linear problems (advanced)\n",
    "\n",
    "This example shows an advanced linear problems usage like {class}`~moscot.problems.time.TemporalProblem`, and the {class}`~moscot.problems.generic.SinkhornProblem`.\n",
    "\n",
    ":::{seealso}\n",
    "- See {doc}`100_linear_problems_basic` for an introduction on how to solve linear problems.\n",
    "- See {doc}`300_quad_problems_basic` for an introduction on how to solve quadratic problems.\n",
    "- See {doc}`400_quad_problems_advanced` for an advanced example on how to solve quadratic problems.\n",
    ":::"
   ]
  },
  {
   "cell_type": "markdown",
   "id": "ee039908",
   "metadata": {},
   "source": [
    "## Imports and data loading"
   ]
  },
  {
   "cell_type": "code",
   "execution_count": 1,
   "id": "a0b18fe4",
   "metadata": {},
   "outputs": [],
   "source": [
    "from moscot import datasets\n",
    "from moscot.problems.generic import SinkhornProblem"
   ]
  },
  {
   "cell_type": "markdown",
   "id": "46b9df06",
   "metadata": {},
   "source": [
    "Simulate data using {func}`~moscot.datasets.simulate_data`."
   ]
  },
  {
   "cell_type": "code",
   "execution_count": 2,
   "id": "898345ab",
   "metadata": {},
   "outputs": [
    {
     "data": {
      "text/plain": [
       "AnnData object with n_obs × n_vars = 40 × 60\n",
       "    obs: 'day', 'celltype'"
      ]
     },
     "execution_count": 2,
     "metadata": {},
     "output_type": "execute_result"
    }
   ],
   "source": [
    "adata = datasets.simulate_data(n_distributions=2, key=\"day\")\n",
    "adata"
   ]
  },
  {
   "cell_type": "markdown",
   "id": "f10b1b46",
   "metadata": {},
   "source": [
    "## Threshold\n",
    "\n",
    "The `threshold` parameter defines the convergence criterion. In the balanced setting the `threshold` denotes the deviation between prior and posterior marginals, while in the unbalanced setting the `threshold` corresponds to a Cauchy sequence stopping criterion."
   ]
  },
  {
   "cell_type": "markdown",
   "id": "942c502d",
   "metadata": {},
   "source": [
    "## Initializer\n",
    "\n",
    "Different initializers can help to improve convergence. For the full-rank case we can set the initializer to the trivial initalizing method denoted by `default`. The `gaussian` initializer {cite}`thornton:22` computes Gaussian approximations of two point clouds and leverages the closed-form solution of optimal transport problems between Gaussians, while the `sorting` initializer {cite}`thornton:22` solves a simplified (sorting) optimal transport problem and uses its solution as initializer. For low-rank problems, different initializers are available: `random`, `rank2`, `k-means` or  `generalized-k-means` {cite}`scetbon:22b`.\n",
    "\n",
    "Some initializers can have additional arguments that can be provided as a dictionary, e.g., `min_iterations`\n",
    "and `max_iterations` can be provided for the {func}`~ott.tools.k_means.k_means` algorithm used by\n",
    "the `k-means` initializer.\n",
    "\n",
    "For more information, see {mod}`ott.initializers.linear`."
   ]
  },
  {
   "cell_type": "code",
   "execution_count": 3,
   "id": "f2b08aeb",
   "metadata": {},
   "outputs": [
    {
     "name": "stdout",
     "output_type": "stream",
     "text": [
      "\u001b[34mINFO    \u001b[0m Computing pca with `\u001b[33mn_comps\u001b[0m=\u001b[1;36m30\u001b[0m` for `xy` using `adata.X`                                                  \n",
      "\u001b[34mINFO    \u001b[0m Solving problem OTProblem\u001b[1m[\u001b[0m\u001b[33mstage\u001b[0m=\u001b[32m'prepared'\u001b[0m, \u001b[33mshape\u001b[0m=\u001b[1m(\u001b[0m\u001b[1;36m20\u001b[0m, \u001b[1;36m20\u001b[0m\u001b[1m)\u001b[0m\u001b[1m]\u001b[0m.                                              \n"
     ]
    }
   ],
   "source": [
    "sp = SinkhornProblem(adata)\n",
    "sp = sp.prepare(key=\"day\")\n",
    "\n",
    "ik = {\"min_iterations\": 5, \"max_iterations\": 200}\n",
    "sp = sp.solve(epsilon=0, rank=3, initializer=\"k-means\", initializer_kwargs=ik)"
   ]
  },
  {
   "cell_type": "markdown",
   "id": "8b3c5857",
   "metadata": {
    "lines_to_next_cell": 0
   },
   "source": [
    "## Number of iterations\n",
    "\n",
    "There are three types of iterations, which can be set. `min_iterations` is the\n",
    "minimum number of iterations of the algorithm. `max_iterations` is the\n",
    "maximum number of iterations. If the convergence criterion is not met\n",
    "after completing `max_iterations`, the model has not converged. `inner_iterations`\n",
    "is the number of iterations after which the model checks the convergence criterion.\n",
    "\n",
    "If `max_iterations` is too low, the model won't converge:"
   ]
  },
  {
   "cell_type": "code",
   "execution_count": 4,
   "id": "457b59b0",
   "metadata": {},
   "outputs": [
    {
     "name": "stdout",
     "output_type": "stream",
     "text": [
      "\u001b[34mINFO    \u001b[0m Solving problem OTProblem\u001b[1m[\u001b[0m\u001b[33mstage\u001b[0m=\u001b[32m'solved'\u001b[0m, \u001b[33mshape\u001b[0m=\u001b[1m(\u001b[0m\u001b[1;36m20\u001b[0m, \u001b[1;36m20\u001b[0m\u001b[1m)\u001b[0m\u001b[1m]\u001b[0m.                                                \n",
      "\u001b[31mWARNING \u001b[0m Solver did not converge                                                                                   \n"
     ]
    }
   ],
   "source": [
    "sp = sp.solve(epsilon=1e-3, inner_iterations=1, min_iterations=0, max_iterations=2)"
   ]
  },
  {
   "cell_type": "markdown",
   "id": "bed4c434",
   "metadata": {
    "lines_to_next_cell": 0
   },
   "source": [
    "## Low-rank hyperparameters\n",
    "\n",
    "The low-rank algorithm requires more hyperparameters, i.e., `gamma`, the\n",
    "a step size of the mirror descent algorithm and `gamma_rescale`, a flag\n",
    "indicating whether to rescale `gamma` at every iteration. When tuning `gamma`,\n",
    "we recommend trying orders of $10$. If `gamma` is too small or too large, the algorithm might not converge."
   ]
  },
  {
   "cell_type": "code",
   "execution_count": 5,
   "id": "2a9d98ad",
   "metadata": {},
   "outputs": [
    {
     "name": "stdout",
     "output_type": "stream",
     "text": [
      "\u001b[34mINFO    \u001b[0m Solving problem OTProblem\u001b[1m[\u001b[0m\u001b[33mstage\u001b[0m=\u001b[32m'solved'\u001b[0m, \u001b[33mshape\u001b[0m=\u001b[1m(\u001b[0m\u001b[1;36m20\u001b[0m, \u001b[1;36m20\u001b[0m\u001b[1m)\u001b[0m\u001b[1m]\u001b[0m.                                                \n",
      "\u001b[31mWARNING \u001b[0m Solver did not converge                                                                                   \n"
     ]
    }
   ],
   "source": [
    "sp = sp.solve(epsilon=0, rank=3, initializer=\"random\", max_iterations=30, gamma=1000)"
   ]
  },
  {
   "cell_type": "code",
   "execution_count": 6,
   "id": "10148340",
   "metadata": {},
   "outputs": [
    {
     "name": "stdout",
     "output_type": "stream",
     "text": [
      "\u001b[34mINFO    \u001b[0m Solving problem OTProblem\u001b[1m[\u001b[0m\u001b[33mstage\u001b[0m=\u001b[32m'solved'\u001b[0m, \u001b[33mshape\u001b[0m=\u001b[1m(\u001b[0m\u001b[1;36m20\u001b[0m, \u001b[1;36m20\u001b[0m\u001b[1m)\u001b[0m\u001b[1m]\u001b[0m.                                                \n"
     ]
    }
   ],
   "source": [
    "sp = sp.solve(epsilon=0, rank=3, initializer=\"random\", max_iterations=30, gamma=10)"
   ]
  },
  {
   "cell_type": "markdown",
   "id": "bad09aab",
   "metadata": {},
   "source": [
    "## Keyword arguments and implementation details\n",
    "\n",
    "Whenever the {meth}`~moscot.problems.generic.SinkhornProblem.solve` method of a linear problem is called,\n",
    "a backend-specific linear solver is instantiated. Currently, {mod}`ott` is\n",
    "the only supported, its corresponding linear solvers are {class}`~ott.solvers.linear.sinkhorn.Sinkhorn`,\n",
    "which is used whenever `rank = -1`, and {class}`~ott.solvers.linear.sinkhorn_lr.LRSinkhorn`,\n",
    "its counterpart whenever `rank` is a positive integer. {mod}`moscot` wraps these\n",
    "classes in {class}`~moscot.backends.ott.SinkhornSolver` which handles both full and\n",
    "low-rank solvers."
   ]
  }
 ],
 "metadata": {
  "jupytext": {
   "cell_metadata_filter": "-all",
   "executable": "/usr/bin/env python",
   "main_language": "python",
   "notebook_metadata_filter": "-all"
  },
  "kernelspec": {
   "display_name": "moscot",
   "language": "python",
   "name": "moscot"
  },
  "language_info": {
   "codemirror_mode": {
    "name": "ipython",
    "version": 3
   },
   "file_extension": ".py",
   "mimetype": "text/x-python",
   "name": "python",
   "nbconvert_exporter": "python",
   "pygments_lexer": "ipython3",
   "version": "3.10.9"
  }
 },
 "nbformat": 4,
 "nbformat_minor": 5
}
