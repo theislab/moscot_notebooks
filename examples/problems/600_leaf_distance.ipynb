{
 "cells": [
  {
   "cell_type": "markdown",
   "id": "2fd3c652",
   "metadata": {},
   "source": [
    "# Lineage tree\n",
    "\n",
    "This example shows how lineage trees can be passed, specifically\n",
    "useful for the {class}`~moscot.problems.time.LineageProblem`, which requires lineage information.\n",
    "Check [moslin](https://github.com/theislab/moslin) {cite}`lange-moslin:23` for examples on real-world data.\n",
    "\n",
    "{mod}`moscot` allows this by passing the:\n",
    "1. precomputed cost matrices,\n",
    "2. barcode information,\n",
    "3. or the lineage tree as a {class}`~networkx.DiGraph`.\n",
    "\n",
    "In this notebook, we consider the lineage tree case.\n",
    "\n",
    ":::{seealso}\n",
    "- TODO: link to other relevant examples\n",
    ":::"
   ]
  },
  {
   "cell_type": "markdown",
   "id": "4c01e37a",
   "metadata": {},
   "source": [
    "## Imports and data loading"
   ]
  },
  {
   "cell_type": "code",
   "execution_count": 1,
   "id": "762e1768",
   "metadata": {},
   "outputs": [],
   "source": [
    "from moscot import datasets\n",
    "from moscot.problems.time import LineageProblem"
   ]
  },
  {
   "cell_type": "markdown",
   "id": "0ce146c1",
   "metadata": {},
   "source": [
    "Simulate data using {func}`~moscot.datasets.simulate_data`."
   ]
  },
  {
   "cell_type": "code",
   "execution_count": 2,
   "id": "0156644a",
   "metadata": {},
   "outputs": [
    {
     "data": {
      "text/plain": [
       "AnnData object with n_obs × n_vars = 60 × 60\n",
       "    obs: 'day', 'celltype'\n",
       "    uns: 'trees'"
      ]
     },
     "execution_count": 2,
     "metadata": {},
     "output_type": "execute_result"
    }
   ],
   "source": [
    "adata = datasets.simulate_data(n_distributions=3, key=\"day\", quad_term=\"tree\")\n",
    "adata"
   ]
  },
  {
   "cell_type": "markdown",
   "id": "520831bb",
   "metadata": {},
   "source": [
    "We assume trees are saved in {attr}`~anndata.AnnData.uns` as a {class}`dict`, where each key is a value in {attr}`~anndata.AnnData.obs` and each value is a {class}`~networkx.DiGraph`."
   ]
  },
  {
   "cell_type": "code",
   "execution_count": 3,
   "id": "57e9c1cd",
   "metadata": {},
   "outputs": [
    {
     "data": {
      "text/plain": [
       "{0: <networkx.classes.digraph.DiGraph at 0x7fb4786c9ae0>,\n",
       " 1: <networkx.classes.digraph.DiGraph at 0x7fb4786c9720>,\n",
       " 2: <networkx.classes.digraph.DiGraph at 0x7fb4786c94b0>}"
      ]
     },
     "execution_count": 3,
     "metadata": {},
     "output_type": "execute_result"
    }
   ],
   "source": [
    "adata.uns[\"trees\"]"
   ]
  },
  {
   "cell_type": "markdown",
   "id": "63b8d413",
   "metadata": {},
   "source": [
    "## Leaf distance\n",
    "\n",
    "Now, we can instantiate and prepare the {class}`~moscot.problems.time.LineageProblem` by specifying the cost."
   ]
  },
  {
   "cell_type": "code",
   "execution_count": 4,
   "id": "9066185a",
   "metadata": {},
   "outputs": [
    {
     "name": "stdout",
     "output_type": "stream",
     "text": [
      "\u001b[34mINFO    \u001b[0m Computing pca with `\u001b[33mn_comps\u001b[0m=\u001b[1;36m30\u001b[0m` for `xy` using `adata.X`                                                  \n",
      "\u001b[34mINFO    \u001b[0m Computing pca with `\u001b[33mn_comps\u001b[0m=\u001b[1;36m30\u001b[0m` for `xy` using `adata.X`                                                  \n"
     ]
    }
   ],
   "source": [
    "lp = LineageProblem(adata)\n",
    "lp = lp.prepare(\n",
    "    time_key=\"day\",\n",
    "    lineage_attr={\"attr\": \"uns\", \"key\": \"trees\", \"cost\": \"leaf_distance\"},\n",
    ")"
   ]
  },
  {
   "cell_type": "markdown",
   "id": "924ccfe7",
   "metadata": {
    "lines_to_next_cell": 0
   },
   "source": [
    "Internally, cost matrices have been computed from the trees using the [shortest path](https://en.wikipedia.org/wiki/Shortest_path_problem) distance between the leaves. Let us investigate the first few entries of the cost matrix computed from the first lineage tree."
   ]
  },
  {
   "cell_type": "code",
   "execution_count": 5,
   "id": "05907023",
   "metadata": {},
   "outputs": [
    {
     "data": {
      "text/plain": [
       "array([[0., 2., 3.],\n",
       "       [2., 0., 3.],\n",
       "       [3., 3., 0.]])"
      ]
     },
     "execution_count": 5,
     "metadata": {},
     "output_type": "execute_result"
    }
   ],
   "source": [
    "lp[0, 1].x.data_src[:3, :3]"
   ]
  },
  {
   "cell_type": "markdown",
   "id": "e22f1823",
   "metadata": {
    "lines_to_next_cell": 0
   },
   "source": [
    "Similarly, we investigate parts of the cost matrix created from the second tree."
   ]
  },
  {
   "cell_type": "code",
   "execution_count": 6,
   "id": "79e8bda0",
   "metadata": {},
   "outputs": [
    {
     "data": {
      "text/plain": [
       "array([[0., 2., 3.],\n",
       "       [2., 0., 3.],\n",
       "       [3., 3., 0.]])"
      ]
     },
     "execution_count": 6,
     "metadata": {},
     "output_type": "execute_result"
    }
   ],
   "source": [
    "lp[0, 1].y.data_src[:3, :3]"
   ]
  },
  {
   "cell_type": "markdown",
   "id": "93fd321b",
   "metadata": {
    "lines_to_next_cell": 0
   },
   "source": [
    "Note that the gene expression term is still saved as two point clouds. This cost matrix will be computed by the backend."
   ]
  },
  {
   "cell_type": "code",
   "execution_count": 7,
   "id": "5c6d7e72",
   "metadata": {},
   "outputs": [
    {
     "data": {
      "text/plain": [
       "((20, 30), (20, 30))"
      ]
     },
     "execution_count": 7,
     "metadata": {},
     "output_type": "execute_result"
    }
   ],
   "source": [
    "lp[0, 1].xy.data_src.shape, lp[0, 1].xy.data_tgt.shape"
   ]
  }
 ],
 "metadata": {
  "jupytext": {
   "cell_metadata_filter": "-all",
   "executable": "/usr/bin/env python",
   "main_language": "python",
   "notebook_metadata_filter": "-all"
  },
  "kernelspec": {
   "display_name": "Python 3.10.10 ('moscot_env7')",
   "language": "python",
   "name": "python3"
  },
  "language_info": {
   "codemirror_mode": {
    "name": "ipython",
    "version": 3
   },
   "file_extension": ".py",
   "mimetype": "text/x-python",
   "name": "python",
   "nbconvert_exporter": "python",
   "pygments_lexer": "ipython3",
   "version": "3.10.10"
  },
  "vscode": {
   "interpreter": {
    "hash": "4102889b8020e11d122425d01958cdd1c06b5284718971a67e86c7dcecee7eb2"
   }
  }
 },
 "nbformat": 4,
 "nbformat_minor": 5
}
