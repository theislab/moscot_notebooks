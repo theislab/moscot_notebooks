{
 "cells": [
  {
   "cell_type": "markdown",
   "id": "5773a182",
   "metadata": {},
   "source": [
    "# Subset policy\n",
    "\n",
    "This example shows how to use different policies.\n",
    "\n",
    "A policy is the rule which sets of transport maps are computed given different distributions of cells. Some problem classes require a certain policy, e.g., the {class}`~moscot.problems.space.MappingProblem` only works with the {class}`~moscot.utils.subset_policy.ExternalStarPolicy` meaning that all spatial batches from the {class}`~anndata.AnnData` object are mapped to the same single cell reference cell distribution.\n",
    "\n",
    "Each problem class has a set of valid policies. For the {class}`~moscot.problems.time.LineageProblem` and the\n",
    "{class}`~moscot.problems.time.TemporalProblem`, we can choose among different policies as demonstrated below.\n",
    "\n",
    ":::{seealso}\n",
    "- See {doc}`AlignmentProblem/1300_sequential_alignment.ipynb` on how to use different policies in the {class}`~moscot.problems.space.AlignmentProblem`.\n",
    ":::"
   ]
  },
  {
   "cell_type": "markdown",
   "id": "cbab47f8",
   "metadata": {},
   "source": [
    "## Imports and data loading"
   ]
  },
  {
   "cell_type": "code",
   "execution_count": 1,
   "id": "a55dfe8a",
   "metadata": {},
   "outputs": [],
   "source": [
    "from moscot import datasets\n",
    "from moscot.problems.time import TemporalProblem"
   ]
  },
  {
   "cell_type": "markdown",
   "id": "c01cd1ec",
   "metadata": {},
   "source": [
    "Simulate data using {func}`~moscot.datasets.simulate_data`."
   ]
  },
  {
   "cell_type": "code",
   "execution_count": 2,
   "id": "ea5df5cb",
   "metadata": {},
   "outputs": [
    {
     "data": {
      "text/plain": [
       "AnnData object with n_obs × n_vars = 80 × 60\n",
       "    obs: 'day', 'celltype'"
      ]
     },
     "execution_count": 2,
     "metadata": {},
     "output_type": "execute_result"
    }
   ],
   "source": [
    "adata = datasets.simulate_data(n_distributions=4, key=\"day\")\n",
    "adata"
   ]
  },
  {
   "cell_type": "markdown",
   "id": "cef16a3d",
   "metadata": {},
   "source": [
    "This simulated dataset contains single cell data across 4 time points (0--3). The policy allows us to determine which transport maps we want to compute."
   ]
  },
  {
   "cell_type": "markdown",
   "id": "837fd70c",
   "metadata": {},
   "source": [
    "## {class}`~moscot.problems.time.TemporalProblem` policies"
   ]
  },
  {
   "cell_type": "markdown",
   "id": "073fd13f",
   "metadata": {},
   "source": [
    "###  {class}`~moscot.utils.subset_policy.SequentialPolicy`\n",
    "\n",
    "We start with the default policy, which is the {class}`~moscot.utils.subset_policy.SequentialPolicy`. The following code shows which optimal transport (OT) problems are prepared to be solved.\n",
    "\n",
    "We see that all consecutive pairs of values in the `time_key` column are used to create an OT problem."
   ]
  },
  {
   "cell_type": "code",
   "execution_count": 3,
   "id": "884848d4",
   "metadata": {},
   "outputs": [
    {
     "name": "stdout",
     "output_type": "stream",
     "text": [
      "\u001b[34mINFO    \u001b[0m Computing pca with `\u001b[33mn_comps\u001b[0m=\u001b[1;36m30\u001b[0m` for `xy` using `adata.X`                                                  \n",
      "\u001b[34mINFO    \u001b[0m Computing pca with `\u001b[33mn_comps\u001b[0m=\u001b[1;36m30\u001b[0m` for `xy` using `adata.X`                                                  \n",
      "\u001b[34mINFO    \u001b[0m Computing pca with `\u001b[33mn_comps\u001b[0m=\u001b[1;36m30\u001b[0m` for `xy` using `adata.X`                                                  \n"
     ]
    },
    {
     "data": {
      "text/plain": [
       "{(0, 1): BirthDeathProblem[stage='prepared', shape=(20, 20)],\n",
       " (1, 2): BirthDeathProblem[stage='prepared', shape=(20, 20)],\n",
       " (2, 3): BirthDeathProblem[stage='prepared', shape=(20, 20)]}"
      ]
     },
     "execution_count": 3,
     "metadata": {},
     "output_type": "execute_result"
    }
   ],
   "source": [
    "tp_sequential = TemporalProblem(adata)\n",
    "tp_sequential = tp_sequential.prepare(time_key=\"day\", policy=\"sequential\")\n",
    "tp_sequential.problems"
   ]
  },
  {
   "cell_type": "markdown",
   "id": "1f5ab7da",
   "metadata": {},
   "source": [
    "### {class}`~moscot.utils.subset_policy.TriangularPolicy`"
   ]
  },
  {
   "cell_type": "code",
   "execution_count": 4,
   "id": "bfdab0e0",
   "metadata": {},
   "outputs": [
    {
     "name": "stdout",
     "output_type": "stream",
     "text": [
      "\u001b[34mINFO    \u001b[0m Computing pca with `\u001b[33mn_comps\u001b[0m=\u001b[1;36m30\u001b[0m` for `xy` using `adata.X`                                                  \n",
      "\u001b[34mINFO    \u001b[0m Computing pca with `\u001b[33mn_comps\u001b[0m=\u001b[1;36m30\u001b[0m` for `xy` using `adata.X`                                                  \n",
      "\u001b[34mINFO    \u001b[0m Computing pca with `\u001b[33mn_comps\u001b[0m=\u001b[1;36m30\u001b[0m` for `xy` using `adata.X`                                                  \n",
      "\u001b[34mINFO    \u001b[0m Computing pca with `\u001b[33mn_comps\u001b[0m=\u001b[1;36m30\u001b[0m` for `xy` using `adata.X`                                                  \n",
      "\u001b[34mINFO    \u001b[0m Computing pca with `\u001b[33mn_comps\u001b[0m=\u001b[1;36m30\u001b[0m` for `xy` using `adata.X`                                                  \n",
      "\u001b[34mINFO    \u001b[0m Computing pca with `\u001b[33mn_comps\u001b[0m=\u001b[1;36m30\u001b[0m` for `xy` using `adata.X`                                                  \n"
     ]
    },
    {
     "data": {
      "text/plain": [
       "{(0, 1): BirthDeathProblem[stage='prepared', shape=(20, 20)],\n",
       " (1, 2): BirthDeathProblem[stage='prepared', shape=(20, 20)],\n",
       " (0, 3): BirthDeathProblem[stage='prepared', shape=(20, 20)],\n",
       " (2, 3): BirthDeathProblem[stage='prepared', shape=(20, 20)],\n",
       " (0, 2): BirthDeathProblem[stage='prepared', shape=(20, 20)],\n",
       " (1, 3): BirthDeathProblem[stage='prepared', shape=(20, 20)]}"
      ]
     },
     "execution_count": 4,
     "metadata": {},
     "output_type": "execute_result"
    }
   ],
   "source": [
    "tp_triu = TemporalProblem(adata)\n",
    "tp_triu = tp_triu.prepare(time_key=\"day\", policy=\"triu\")\n",
    "tp_triu.problems"
   ]
  },
  {
   "cell_type": "markdown",
   "id": "b05bd030",
   "metadata": {},
   "source": [
    "### {class}`~moscot.utils.subset_policy.ExplicitPolicy`"
   ]
  },
  {
   "cell_type": "code",
   "execution_count": 5,
   "id": "aa4f79a7",
   "metadata": {},
   "outputs": [
    {
     "name": "stdout",
     "output_type": "stream",
     "text": [
      "\u001b[34mINFO    \u001b[0m Computing pca with `\u001b[33mn_comps\u001b[0m=\u001b[1;36m30\u001b[0m` for `xy` using `adata.X`                                                  \n",
      "\u001b[34mINFO    \u001b[0m Computing pca with `\u001b[33mn_comps\u001b[0m=\u001b[1;36m30\u001b[0m` for `xy` using `adata.X`                                                  \n",
      "\u001b[34mINFO    \u001b[0m Computing pca with `\u001b[33mn_comps\u001b[0m=\u001b[1;36m30\u001b[0m` for `xy` using `adata.X`                                                  \n"
     ]
    },
    {
     "data": {
      "text/plain": [
       "{(0, 1): BirthDeathProblem[stage='prepared', shape=(20, 20)],\n",
       " (0, 3): BirthDeathProblem[stage='prepared', shape=(20, 20)],\n",
       " (1, 3): BirthDeathProblem[stage='prepared', shape=(20, 20)]}"
      ]
     },
     "execution_count": 5,
     "metadata": {},
     "output_type": "execute_result"
    }
   ],
   "source": [
    "tp_expl = TemporalProblem(adata)\n",
    "tp_expl = tp_expl.prepare(\n",
    "    time_key=\"day\", policy=\"explicit\", subset=[(0, 1), (0, 3), (1, 3)]\n",
    ")\n",
    "tp_expl.problems"
   ]
  }
 ],
 "metadata": {
  "jupytext": {
   "cell_metadata_filter": "-all",
   "executable": "/usr/bin/env python",
   "main_language": "python",
   "notebook_metadata_filter": "-all"
  },
  "kernelspec": {
   "display_name": "moscot",
   "language": "python",
   "name": "moscot"
  },
  "language_info": {
   "codemirror_mode": {
    "name": "ipython",
    "version": 3
   },
   "file_extension": ".py",
   "mimetype": "text/x-python",
   "name": "python",
   "nbconvert_exporter": "python",
   "pygments_lexer": "ipython3",
   "version": "3.10.9"
  }
 },
 "nbformat": 4,
 "nbformat_minor": 5
}
