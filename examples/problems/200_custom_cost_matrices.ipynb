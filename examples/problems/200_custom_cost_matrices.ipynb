{
 "cells": [
  {
   "attachments": {},
   "cell_type": "markdown",
   "id": "00cad006",
   "metadata": {},
   "source": [
    "# Custom cost matrices\n",
    "\n",
    "This example shows how to use custom cost matrices.\n",
    "\n",
    "Even it is recommended to pass the data as opposed to pre-computed cost\n",
    "matrices due to computational complexity, we demonstrate in the following how\n",
    "to pass custom cost matrices.\n",
    "\n",
    "There are two ways to pass custom cost matrices, either by setting them on a\n",
    "single problem level after preparing the problem or by passing it in the {attr}`~anndata.AnnData.obsp` layer.\n",
    "\n",
    ":::{seealso}\n",
    "- See {doc}`../solvers/300_quad_problems_basic` for an introduction on how to solve quadratic problems.\n",
    "- See {doc}`../solvers/400_quad_problems_advanced` for an advanced example on how to solve quadratic problems.\n",
    ":::"
   ]
  },
  {
   "attachments": {},
   "cell_type": "markdown",
   "id": "2bd4702d",
   "metadata": {},
   "source": [
    "## Imports and data loading"
   ]
  },
  {
   "cell_type": "code",
   "execution_count": 1,
   "id": "bc9030e9",
   "metadata": {},
   "outputs": [],
   "source": [
    "import warnings\n",
    "\n",
    "warnings.simplefilter(\"ignore\", FutureWarning)\n",
    "\n",
    "from moscot import datasets\n",
    "from moscot.problems.generic import FGWProblem\n",
    "\n",
    "import numpy as np\n",
    "import pandas as pd\n",
    "\n",
    "import scanpy as sc"
   ]
  },
  {
   "attachments": {},
   "cell_type": "markdown",
   "id": "b20d0298",
   "metadata": {},
   "source": [
    "Simulate data using {func}`~moscot.datasets.simulate_data`."
   ]
  },
  {
   "cell_type": "code",
   "execution_count": 2,
   "id": "3b40c566",
   "metadata": {},
   "outputs": [
    {
     "data": {
      "text/plain": [
       "AnnData object with n_obs × n_vars = 60 × 60\n",
       "    obs: 'batch', 'celltype'\n",
       "    uns: 'pca'\n",
       "    obsm: 'X_pca'\n",
       "    varm: 'PCs'"
      ]
     },
     "execution_count": 2,
     "metadata": {},
     "output_type": "execute_result"
    }
   ],
   "source": [
    "adata = datasets.simulate_data(n_distributions=3, key=\"batch\")\n",
    "sc.pp.pca(adata)\n",
    "adata"
   ]
  },
  {
   "attachments": {},
   "cell_type": "markdown",
   "id": "fc7d6089",
   "metadata": {},
   "source": [
    "## Prepare the problem\n",
    "\n",
    "The first option is to prepare the problem in an arbitrary way and override\n",
    "the cost terms of the single OT problems after."
   ]
  },
  {
   "cell_type": "code",
   "execution_count": 3,
   "id": "36ef5120",
   "metadata": {},
   "outputs": [
    {
     "name": "stdout",
     "output_type": "stream",
     "text": [
      "\u001b[34mINFO    \u001b[0m Computing pca with `\u001b[33mn_comps\u001b[0m=\u001b[1;36m30\u001b[0m` for `xy` using `adata.X`                                                  \n",
      "\u001b[34mINFO    \u001b[0m Computing pca with `\u001b[33mn_comps\u001b[0m=\u001b[1;36m30\u001b[0m` for `xy` using `adata.X`                                                  \n"
     ]
    },
    {
     "data": {
      "text/plain": [
       "FGWProblem[('1', '2'), ('0', '1')]"
      ]
     },
     "execution_count": 3,
     "metadata": {},
     "output_type": "execute_result"
    }
   ],
   "source": [
    "fgw = FGWProblem(adata)\n",
    "fgw = fgw.prepare(key=\"batch\", x_attr=\"X_pca\", y_attr=\"X_pca\")\n",
    "fgw"
   ]
  },
  {
   "attachments": {},
   "cell_type": "markdown",
   "id": "625be056",
   "metadata": {},
   "source": [
    "## Passing cost matrices one by one\n",
    "\n",
    "We can pass the custom cost matrices by accessing the {class}`~moscot.base.problems.OTProblem`.\n",
    "The method {meth}`~moscot.base.problems.OTProblem.set_xy` allows to pass a custom cost matrix\n",
    "for the linear term. {meth}`~moscot.base.problems.OTProblem.set_x` allows to set\n",
    "a custom cost matrix for the quadratic term corresponding to the source distribution,\n",
    "while {meth}`~moscot.base.problems.OTProblem.set_y` works analogously for the quadratic\n",
    "term in the target distribution.\n",
    "\n",
    "When using the above-mentioned methods, we need to pass a {class}`~pandas.DataFrame`\n",
    "to ensure that the order of the rows and columns of the cost matrix is correct.\n",
    "In the following we retrieve the cell names to construct the {class}`~pandas.DataFrame`\n",
    "containing custom cost matrices."
   ]
  },
  {
   "cell_type": "code",
   "execution_count": 4,
   "id": "ca81a426",
   "metadata": {},
   "outputs": [],
   "source": [
    "rng = np.random.default_rng(seed=42)\n",
    "obs_names_0 = fgw[\"0\", \"1\"].adata_src.obs_names\n",
    "obs_names_1 = fgw[\"0\", \"1\"].adata_tgt.obs_names\n",
    "\n",
    "cost_linear_01 = np.abs(rng.normal(size=(len(obs_names_0), len(obs_names_1))))\n",
    "cost_quad_0 = np.abs(rng.normal(size=(len(obs_names_0), len(obs_names_0))))\n",
    "np.fill_diagonal(cost_quad_0, 0)\n",
    "cost_quad_1 = np.abs(rng.normal(size=(len(obs_names_1), len(obs_names_1))))\n",
    "np.fill_diagonal(cost_quad_1, 0)\n",
    "\n",
    "cm_linear = pd.DataFrame(data=cost_linear_01, index=obs_names_0, columns=obs_names_1)\n",
    "cm_quad_0 = pd.DataFrame(data=cost_quad_0, index=obs_names_0, columns=obs_names_0)\n",
    "cm_quad_1 = pd.DataFrame(data=cost_quad_1, index=obs_names_1, columns=obs_names_1)"
   ]
  },
  {
   "attachments": {},
   "cell_type": "markdown",
   "id": "8f72ceef",
   "metadata": {},
   "source": [
    "Now we can set the custom cost matrices:"
   ]
  },
  {
   "cell_type": "code",
   "execution_count": 5,
   "id": "2195c41a",
   "metadata": {},
   "outputs": [],
   "source": [
    "fgw[\"0\", \"1\"].set_xy(cm_linear, tag=\"cost_matrix\")\n",
    "fgw[\"0\", \"1\"].set_x(cm_quad_0, tag=\"cost_matrix\")\n",
    "fgw[\"0\", \"1\"].set_y(cm_quad_1, tag=\"cost_matrix\")"
   ]
  },
  {
   "attachments": {},
   "cell_type": "markdown",
   "id": "6a403bc1",
   "metadata": {},
   "source": [
    "When solving the problem, the custom cost matrices will be used for the\n",
    "problem mapping from batch `'0'` to batch `'1'`, while the problem mapping from batch `'1'` to\n",
    "batch `'2'` is still using the information passed in {meth}`~moscot.problems.generic.FGWProblem.prepare`."
   ]
  },
  {
   "attachments": {},
   "cell_type": "markdown",
   "id": "5d33f1c7",
   "metadata": {},
   "source": [
    "## Cost matrices in the {attr}`~anndata.AnnData.obsp` layer\n",
    "\n",
    "A second way to pass custom cost matrices is using {attr}`~anndata.AnnData.obsp`.\n",
    "This is especially useful when saving and loading a model. On the other hand,\n",
    "it might be more difficult to store the cost matrix in the correct place in\n",
    "{attr}`~anndata.AnnData.obsp`.\n",
    "In the following, we construct the {attr}`~~anndata.AnnData.obsp` layer. When doing\n",
    "this, be sure that the order of the cost matrix entries are correct.\n",
    "In the following, we construct an {attr}`~anndata.AnnData.obsp` layer containing\n",
    "custom cost matrices for both linear and quadratic terms for both OT problems,\n",
    "mapping from batch `'0'` to batch `'1'`, and from batch `'1'` to batch `'2'`."
   ]
  },
  {
   "cell_type": "code",
   "execution_count": 6,
   "id": "e21b574c",
   "metadata": {},
   "outputs": [
    {
     "name": "stdout",
     "output_type": "stream",
     "text": [
      "(20, 20)\n",
      "(20, 20)\n",
      "(20, 20)\n",
      "(20, 20)\n",
      "(20, 20)\n",
      "(60, 60)\n"
     ]
    }
   ],
   "source": [
    "obs_names_2 = fgw[\"1\", \"2\"].adata_tgt.obs_names\n",
    "\n",
    "cost_linear_12 = np.abs(rng.normal(size=(len(obs_names_1), len(obs_names_2))))\n",
    "cost_quad_2 = np.abs(rng.normal(size=(len(obs_names_2), len(obs_names_2))))\n",
    "np.fill_diagonal(cost_quad_2, 0)\n",
    "\n",
    "print(cost_quad_0.shape)\n",
    "print(cost_quad_1.shape)\n",
    "print(cost_quad_2.shape)\n",
    "print(cost_linear_01.shape)\n",
    "print(cost_linear_12.shape)\n",
    "\n",
    "blocks = [\n",
    "    [cost_quad_0, cost_linear_01, np.zeros((len(obs_names_0), len(obs_names_2)))],\n",
    "    [np.zeros((len(obs_names_1), len(obs_names_0))), cost_quad_1, cost_linear_12],\n",
    "    [\n",
    "        np.zeros((len(obs_names_2), len(obs_names_0))),\n",
    "        np.zeros((len(obs_names_2), len(obs_names_1))),\n",
    "        cost_quad_2,\n",
    "    ],\n",
    "]\n",
    "\n",
    "print(adata.shape)\n",
    "adata.obsp[\"cost_matrices\"] = np.block(blocks)"
   ]
  },
  {
   "attachments": {},
   "cell_type": "markdown",
   "id": "3724651d",
   "metadata": {},
   "source": [
    "We need to specify where to fetch the custom cost matrices in the\n",
    "{meth}`~moscot.problems.generic.FGWProblem.prepare` methods. If we want to only\n",
    "use the linear custom cost matrix, we need to modify the `joint_attr` as follows:"
   ]
  },
  {
   "cell_type": "code",
   "execution_count": 7,
   "id": "4b99031c",
   "metadata": {},
   "outputs": [],
   "source": [
    "joint_attr = {\"key\": \"cost_matrices\", \"tag\": \"cost_matrix\"}\n",
    "fgw = fgw.prepare(key=\"batch\", joint_attr=joint_attr, x_attr=\"X_pca\", y_attr=\"X_pca\")"
   ]
  },
  {
   "attachments": {},
   "cell_type": "markdown",
   "id": "b3ed4f02",
   "metadata": {},
   "source": [
    "If we want to use only quadratic custom cost matrices, we need to modify `x_attr` and `y_attr`."
   ]
  },
  {
   "cell_type": "code",
   "execution_count": 8,
   "id": "7c6f8eb6",
   "metadata": {},
   "outputs": [
    {
     "data": {
      "text/plain": [
       "OTProblem[stage='prepared', shape=(20, 20)]"
      ]
     },
     "execution_count": 8,
     "metadata": {},
     "output_type": "execute_result"
    }
   ],
   "source": [
    "x_attr = {\n",
    "    \"attr\": \"obsp\",\n",
    "    \"key\": \"cost_matrices\",\n",
    "    \"tag\": \"cost_matrix\",\n",
    "    \"cost\": \"custom\",\n",
    "}\n",
    "y_attr = {\n",
    "    \"attr\": \"obsp\",\n",
    "    \"key\": \"cost_matrices\",\n",
    "    \"tag\": \"cost_matrix\",\n",
    "    \"cost\": \"custom\",\n",
    "}\n",
    "fgw = fgw.prepare(key=\"batch\", joint_attr=\"X_pca\", x_attr=x_attr, y_attr=y_attr)\n",
    "fgw[(\"0\", \"1\")]"
   ]
  },
  {
   "attachments": {},
   "cell_type": "markdown",
   "id": "4f417f79",
   "metadata": {},
   "source": [
    "If we want to use custom cost matrices for all terms, we can do this the following way:"
   ]
  },
  {
   "cell_type": "code",
   "execution_count": 9,
   "id": "cbb8b363",
   "metadata": {},
   "outputs": [
    {
     "data": {
      "text/plain": [
       "OTProblem[stage='prepared', shape=(20, 20)]"
      ]
     },
     "execution_count": 9,
     "metadata": {},
     "output_type": "execute_result"
    }
   ],
   "source": [
    "fgw = fgw.prepare(key=\"batch\", joint_attr=joint_attr, x_attr=x_attr, y_attr=y_attr)\n",
    "fgw[(\"1\", \"2\")]"
   ]
  }
 ],
 "metadata": {
  "jupytext": {
   "cell_metadata_filter": "-all",
   "executable": "/usr/bin/env python",
   "main_language": "python",
   "notebook_metadata_filter": "-all"
  },
  "kernelspec": {
   "display_name": "Python 3.9.13 ('moscot_env3')",
   "language": "python",
   "name": "python3"
  },
  "language_info": {
   "codemirror_mode": {
    "name": "ipython",
    "version": 3
   },
   "file_extension": ".py",
   "mimetype": "text/x-python",
   "name": "python",
   "nbconvert_exporter": "python",
   "pygments_lexer": "ipython3",
   "version": "3.11.5"
  },
  "vscode": {
   "interpreter": {
    "hash": "8610331b38159cf100a9390b390145945c86b57da1eea7325786c6aeb6a93ad8"
   }
  }
 },
 "nbformat": 4,
 "nbformat_minor": 5
}
