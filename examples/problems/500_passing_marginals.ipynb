{
 "cells": [
  {
   "cell_type": "markdown",
   "id": "7a7c25b1",
   "metadata": {},
   "source": [
    "# Handling marginals\n",
    "\n",
    "This example shows how to explicitly pass the marginals.\n",
    "\n",
    "Marginals define the weight of each single cell within a distribution of cells. In many cases, marginals are chosen to be uniform as all cells are equally important. In some cases, we have prior knowledge to adapt the marginals.\n",
    "\n",
    "For example, {meth}`~moscot.problems.time.TemporalProblem.score_genes_for_marginals` computes the marginals such that cells expressing proliferation marker genes get a higher weight as they are assumed to have multiple descendants or that certain cells are outliers in space, so they should not influence the mapping too much. We demonstrate how to pass marginals with the {class}`~moscot.problems.space.AlignmentProblem`.\n",
    "\n",
    ":::{seealso}\n",
    "- See {doc}`800_score_genes_for_marginals` on examples how to use {meth}`~moscot.problems.time.TemporalProblem.score_genes_for_marginals`. \n",
    ":::"
   ]
  },
  {
   "cell_type": "markdown",
   "id": "82a8050c",
   "metadata": {},
   "source": [
    "## Imports and data loading"
   ]
  },
  {
   "cell_type": "code",
   "execution_count": 1,
   "id": "d2258e7a",
   "metadata": {},
   "outputs": [],
   "source": [
    "from moscot import datasets\n",
    "from moscot.problems.space import AlignmentProblem\n",
    "\n",
    "import numpy as np"
   ]
  },
  {
   "cell_type": "markdown",
   "id": "8484c8ef",
   "metadata": {},
   "source": [
    "Simulate data using {func}`~moscot.datasets.sim_align`."
   ]
  },
  {
   "cell_type": "code",
   "execution_count": 2,
   "id": "7905c11f",
   "metadata": {},
   "outputs": [
    {
     "data": {
      "text/plain": [
       "AnnData object with n_obs × n_vars = 1200 × 500\n",
       "    obs: 'batch'\n",
       "    uns: 'batch_colors'\n",
       "    obsm: 'spatial'"
      ]
     },
     "execution_count": 2,
     "metadata": {},
     "output_type": "execute_result"
    }
   ],
   "source": [
    "adata = datasets.sim_align()\n",
    "adata"
   ]
  },
  {
   "cell_type": "markdown",
   "id": "ec31a71b",
   "metadata": {},
   "source": [
    "## Uniform marginals"
   ]
  },
  {
   "cell_type": "code",
   "execution_count": 3,
   "id": "5f7b8829",
   "metadata": {},
   "outputs": [
    {
     "name": "stdout",
     "output_type": "stream",
     "text": [
      "\u001b[34mINFO    \u001b[0m Computing pca with `\u001b[33mn_comps\u001b[0m=\u001b[1;36m30\u001b[0m` for `xy` using `adata.X`                                                  \n",
      "\u001b[34mINFO    \u001b[0m Computing pca with `\u001b[33mn_comps\u001b[0m=\u001b[1;36m30\u001b[0m` for `xy` using `adata.X`                                                  \n"
     ]
    }
   ],
   "source": [
    "ap = AlignmentProblem(adata)\n",
    "ap = ap.prepare(batch_key=\"batch\", policy=\"sequential\")"
   ]
  },
  {
   "cell_type": "markdown",
   "id": "a1f1a9da",
   "metadata": {},
   "source": [
    "If marginals are not specified, they are assumed to be uniform."
   ]
  },
  {
   "cell_type": "code",
   "execution_count": 4,
   "id": "65382025",
   "metadata": {},
   "outputs": [
    {
     "data": {
      "text/plain": [
       "(array([0.0025, 0.0025, 0.0025, 0.0025, 0.0025]),\n",
       " array([0.0025, 0.0025, 0.0025, 0.0025, 0.0025]))"
      ]
     },
     "execution_count": 4,
     "metadata": {},
     "output_type": "execute_result"
    }
   ],
   "source": [
    "ap[\"0\", \"1\"].a[:5], ap[\"0\", \"1\"].b[:5]"
   ]
  },
  {
   "cell_type": "markdown",
   "id": "a5222d81",
   "metadata": {
    "lines_to_next_cell": 0
   },
   "source": [
    "## User-defined marginals\n",
    "\n",
    "If we want to specify the marginals, they should be passed via {attr}`~anndata.AnnData.obs`. Let's assume, we want to assign less weight to the cell `400` in our source distribution."
   ]
  },
  {
   "cell_type": "code",
   "execution_count": 5,
   "id": "a2d9c3f9",
   "metadata": {
    "scrolled": true
   },
   "outputs": [
    {
     "data": {
      "text/html": [
       "<div>\n",
       "<style scoped>\n",
       "    .dataframe tbody tr th:only-of-type {\n",
       "        vertical-align: middle;\n",
       "    }\n",
       "\n",
       "    .dataframe tbody tr th {\n",
       "        vertical-align: top;\n",
       "    }\n",
       "\n",
       "    .dataframe thead th {\n",
       "        text-align: right;\n",
       "    }\n",
       "</style>\n",
       "<table border=\"1\" class=\"dataframe\">\n",
       "  <thead>\n",
       "    <tr style=\"text-align: right;\">\n",
       "      <th></th>\n",
       "      <th>batch</th>\n",
       "      <th>source_marginals</th>\n",
       "    </tr>\n",
       "  </thead>\n",
       "  <tbody>\n",
       "    <tr>\n",
       "      <th>400</th>\n",
       "      <td>0</td>\n",
       "      <td>0.5</td>\n",
       "    </tr>\n",
       "    <tr>\n",
       "      <th>401</th>\n",
       "      <td>0</td>\n",
       "      <td>1.0</td>\n",
       "    </tr>\n",
       "    <tr>\n",
       "      <th>402</th>\n",
       "      <td>0</td>\n",
       "      <td>1.0</td>\n",
       "    </tr>\n",
       "    <tr>\n",
       "      <th>403</th>\n",
       "      <td>0</td>\n",
       "      <td>1.0</td>\n",
       "    </tr>\n",
       "    <tr>\n",
       "      <th>404</th>\n",
       "      <td>0</td>\n",
       "      <td>1.0</td>\n",
       "    </tr>\n",
       "  </tbody>\n",
       "</table>\n",
       "</div>"
      ],
      "text/plain": [
       "    batch  source_marginals\n",
       "400     0               0.5\n",
       "401     0               1.0\n",
       "402     0               1.0\n",
       "403     0               1.0\n",
       "404     0               1.0"
      ]
     },
     "execution_count": 5,
     "metadata": {},
     "output_type": "execute_result"
    }
   ],
   "source": [
    "adata.obs[\"source_marginals\"] = np.ones(adata.n_obs)\n",
    "adata.obs.loc[\"400\", \"source_marginals\"] = 0.5\n",
    "adata.obs.head()"
   ]
  },
  {
   "cell_type": "markdown",
   "id": "09b02d6e",
   "metadata": {
    "lines_to_next_cell": 0
   },
   "source": [
    "Similarly, we want to assign less weight to cell `397-1` in the target distribution."
   ]
  },
  {
   "cell_type": "code",
   "execution_count": 6,
   "id": "dc76e5fc",
   "metadata": {
    "lines_to_next_cell": 0
   },
   "outputs": [
    {
     "data": {
      "text/html": [
       "<div>\n",
       "<style scoped>\n",
       "    .dataframe tbody tr th:only-of-type {\n",
       "        vertical-align: middle;\n",
       "    }\n",
       "\n",
       "    .dataframe tbody tr th {\n",
       "        vertical-align: top;\n",
       "    }\n",
       "\n",
       "    .dataframe thead th {\n",
       "        text-align: right;\n",
       "    }\n",
       "</style>\n",
       "<table border=\"1\" class=\"dataframe\">\n",
       "  <thead>\n",
       "    <tr style=\"text-align: right;\">\n",
       "      <th></th>\n",
       "      <th>batch</th>\n",
       "      <th>source_marginals</th>\n",
       "      <th>target_marginals</th>\n",
       "    </tr>\n",
       "  </thead>\n",
       "  <tbody>\n",
       "    <tr>\n",
       "      <th>395-1</th>\n",
       "      <td>2</td>\n",
       "      <td>1.0</td>\n",
       "      <td>1.0</td>\n",
       "    </tr>\n",
       "    <tr>\n",
       "      <th>396-1</th>\n",
       "      <td>2</td>\n",
       "      <td>1.0</td>\n",
       "      <td>1.0</td>\n",
       "    </tr>\n",
       "    <tr>\n",
       "      <th>397-1</th>\n",
       "      <td>2</td>\n",
       "      <td>1.0</td>\n",
       "      <td>0.5</td>\n",
       "    </tr>\n",
       "    <tr>\n",
       "      <th>398-1</th>\n",
       "      <td>2</td>\n",
       "      <td>1.0</td>\n",
       "      <td>1.0</td>\n",
       "    </tr>\n",
       "    <tr>\n",
       "      <th>399-1</th>\n",
       "      <td>2</td>\n",
       "      <td>1.0</td>\n",
       "      <td>1.0</td>\n",
       "    </tr>\n",
       "  </tbody>\n",
       "</table>\n",
       "</div>"
      ],
      "text/plain": [
       "      batch  source_marginals  target_marginals\n",
       "395-1     2               1.0               1.0\n",
       "396-1     2               1.0               1.0\n",
       "397-1     2               1.0               0.5\n",
       "398-1     2               1.0               1.0\n",
       "399-1     2               1.0               1.0"
      ]
     },
     "execution_count": 6,
     "metadata": {},
     "output_type": "execute_result"
    }
   ],
   "source": [
    "adata.obs[\"target_marginals\"] = np.ones(adata.n_obs)\n",
    "adata.obs.loc[\"397-1\", \"target_marginals\"] = 0.5\n",
    "adata.obs.tail()"
   ]
  },
  {
   "cell_type": "code",
   "execution_count": 7,
   "id": "39da12e8",
   "metadata": {},
   "outputs": [
    {
     "name": "stdout",
     "output_type": "stream",
     "text": [
      "\u001b[34mINFO    \u001b[0m Computing pca with `\u001b[33mn_comps\u001b[0m=\u001b[1;36m30\u001b[0m` for `xy` using `adata.X`                                                  \n",
      "\u001b[34mINFO    \u001b[0m Computing pca with `\u001b[33mn_comps\u001b[0m=\u001b[1;36m30\u001b[0m` for `xy` using `adata.X`                                                  \n"
     ]
    }
   ],
   "source": [
    "ap2 = AlignmentProblem(adata)\n",
    "ap2 = ap2.prepare(batch_key=\"batch\", a=\"source_marginals\", b=\"target_marginals\")"
   ]
  },
  {
   "cell_type": "code",
   "execution_count": 8,
   "id": "a2b5f02d",
   "metadata": {},
   "outputs": [
    {
     "data": {
      "text/plain": [
       "(array([0.5, 1. , 1. , 1. , 1. ]), array([1. , 1. , 0.5, 1. , 1. ]))"
      ]
     },
     "execution_count": 8,
     "metadata": {},
     "output_type": "execute_result"
    }
   ],
   "source": [
    "ap2[\"0\", \"1\"].a[:5], ap2[\"1\", \"2\"].b[-5:]"
   ]
  },
  {
   "cell_type": "markdown",
   "id": "798f699e",
   "metadata": {},
   "source": [
    "Note that cell `397-1` belongs to batch `2`, hence it never appears in a source\n",
    "distribution as we have chosen the {class}`~moscot.utils.subset_policy.SequentialPolicy`. Similarly, the cells belonging to batch `0` are never part of a target distribution. Also note that the scale of the marginals influences the convergence criterion. Hence, we recommend normalizing the marginals to sum to $1$."
   ]
  }
 ],
 "metadata": {
  "jupytext": {
   "cell_metadata_filter": "-all",
   "executable": "/usr/bin/env python",
   "main_language": "python",
   "notebook_metadata_filter": "-all"
  },
  "kernelspec": {
   "display_name": "Python 3.10.10 ('moscot_env7')",
   "language": "python",
   "name": "python3"
  },
  "language_info": {
   "codemirror_mode": {
    "name": "ipython",
    "version": 3
   },
   "file_extension": ".py",
   "mimetype": "text/x-python",
   "name": "python",
   "nbconvert_exporter": "python",
   "pygments_lexer": "ipython3",
   "version": "3.10.10"
  },
  "vscode": {
   "interpreter": {
    "hash": "4102889b8020e11d122425d01958cdd1c06b5284718971a67e86c7dcecee7eb2"
   }
  }
 },
 "nbformat": 4,
 "nbformat_minor": 5
}
