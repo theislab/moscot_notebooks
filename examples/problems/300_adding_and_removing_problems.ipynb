{
 "cells": [
  {
   "cell_type": "markdown",
   "id": "0b8386be",
   "metadata": {},
   "source": [
    "# Adding and removing problems\n",
    "\n",
    "This example shows  how to add or remove single problems.\n",
    "\n",
    "Adding a single problem can be useful for fine tuning, and it is sometimes needed\n",
    "for certain downstream functions, e.g., for {meth}`~moscot.problems.time.TemporalProblem.compute_interpolated_distance`.\n",
    "\n",
    ":::{seealso}\n",
    "- TODO: link to other relevant examples\n",
    ":::"
   ]
  },
  {
   "cell_type": "markdown",
   "id": "8851842b",
   "metadata": {},
   "source": [
    "## Imports and data loading"
   ]
  },
  {
   "cell_type": "code",
   "execution_count": 1,
   "id": "a4f7a5a6",
   "metadata": {},
   "outputs": [],
   "source": [
    "from moscot import datasets\n",
    "from moscot.problems.time import TemporalProblem"
   ]
  },
  {
   "cell_type": "markdown",
   "id": "a673daf5",
   "metadata": {},
   "source": [
    "Simulate data using {func}`~moscot.datasets.simulate_data`."
   ]
  },
  {
   "cell_type": "code",
   "execution_count": 2,
   "id": "2aca4fac",
   "metadata": {},
   "outputs": [
    {
     "data": {
      "text/plain": [
       "AnnData object with n_obs × n_vars = 80 × 60\n",
       "    obs: 'day', 'celltype'"
      ]
     },
     "execution_count": 2,
     "metadata": {},
     "output_type": "execute_result"
    }
   ],
   "source": [
    "adata = datasets.simulate_data(n_distributions=4, key=\"day\")\n",
    "adata"
   ]
  },
  {
   "cell_type": "markdown",
   "id": "40cddc09",
   "metadata": {},
   "source": [
    "## Prepare and solve the problem\n",
    "\n",
    "Let's prepare and solve the problem."
   ]
  },
  {
   "cell_type": "code",
   "execution_count": 3,
   "id": "9e3e5042",
   "metadata": {},
   "outputs": [
    {
     "name": "stdout",
     "output_type": "stream",
     "text": [
      "\u001b[34mINFO    \u001b[0m Computing pca with `\u001b[33mn_comps\u001b[0m=\u001b[1;36m30\u001b[0m` for `xy` using `adata.X`                                                  \n",
      "\u001b[34mINFO    \u001b[0m Computing pca with `\u001b[33mn_comps\u001b[0m=\u001b[1;36m30\u001b[0m` for `xy` using `adata.X`                                                  \n",
      "\u001b[34mINFO    \u001b[0m Computing pca with `\u001b[33mn_comps\u001b[0m=\u001b[1;36m30\u001b[0m` for `xy` using `adata.X`                                                  \n",
      "\u001b[34mINFO    \u001b[0m Solving problem BirthDeathProblem\u001b[1m[\u001b[0m\u001b[33mstage\u001b[0m=\u001b[32m'prepared'\u001b[0m, \u001b[33mshape\u001b[0m=\u001b[1m(\u001b[0m\u001b[1;36m20\u001b[0m, \u001b[1;36m20\u001b[0m\u001b[1m)\u001b[0m\u001b[1m]\u001b[0m.                                      \n",
      "\u001b[34mINFO    \u001b[0m Solving problem BirthDeathProblem\u001b[1m[\u001b[0m\u001b[33mstage\u001b[0m=\u001b[32m'prepared'\u001b[0m, \u001b[33mshape\u001b[0m=\u001b[1m(\u001b[0m\u001b[1;36m20\u001b[0m, \u001b[1;36m20\u001b[0m\u001b[1m)\u001b[0m\u001b[1m]\u001b[0m.                                      \n",
      "\u001b[34mINFO    \u001b[0m Solving problem BirthDeathProblem\u001b[1m[\u001b[0m\u001b[33mstage\u001b[0m=\u001b[32m'prepared'\u001b[0m, \u001b[33mshape\u001b[0m=\u001b[1m(\u001b[0m\u001b[1;36m20\u001b[0m, \u001b[1;36m20\u001b[0m\u001b[1m)\u001b[0m\u001b[1m]\u001b[0m.                                      \n",
      "key: (0, 1), solution: OTTOutput[shape=(20, 20), cost=0.7858, converged=True]\n",
      "key: (1, 2), solution: OTTOutput[shape=(20, 20), cost=0.7858, converged=True]\n",
      "key: (2, 3), solution: OTTOutput[shape=(20, 20), cost=0.7871, converged=True]\n"
     ]
    }
   ],
   "source": [
    "tp = TemporalProblem(adata).prepare(time_key=\"day\").solve(epsilon=1e-2)\n",
    "\n",
    "for key, subprob in tp.problems.items():\n",
    "    print(f\"key: {key}, solution: {subprob.solution}\")"
   ]
  },
  {
   "cell_type": "markdown",
   "id": "5645a3b4",
   "metadata": {},
   "source": [
    "## Re-solving a subproblem\n",
    "\n",
    "We might want to solve one of the problems again, for example because the solver did not converge, or we simply want to try different parameters. Let's experiment with unbalancedness in the solution between days `2` and `3`. Hence, we extract the subproblem and solve it again."
   ]
  },
  {
   "cell_type": "code",
   "execution_count": 4,
   "id": "37fb8eb0",
   "metadata": {},
   "outputs": [
    {
     "data": {
      "text/plain": [
       "OTTOutput[shape=(20, 20), cost=0.39, converged=True]"
      ]
     },
     "execution_count": 4,
     "metadata": {},
     "output_type": "execute_result"
    }
   ],
   "source": [
    "extracted_problem = tp.problems[2, 3]\n",
    "extracted_problem = extracted_problem.solve(epsilon=1e-2, tau_a=0.95, tau_b=0.95)\n",
    "extracted_problem.solution"
   ]
  },
  {
   "cell_type": "markdown",
   "id": "1153e7d9",
   "metadata": {},
   "source": [
    "After re-solving the subproblem, we add it back to the {class}`~moscot.problems.time.TemporalProblem`."
   ]
  },
  {
   "cell_type": "code",
   "execution_count": 5,
   "id": "80dc0dbb",
   "metadata": {},
   "outputs": [
    {
     "name": "stdout",
     "output_type": "stream",
     "text": [
      "key: (0, 1), solution: OTTOutput[shape=(20, 20), cost=0.7858, converged=True]\n",
      "key: (1, 2), solution: OTTOutput[shape=(20, 20), cost=0.7858, converged=True]\n",
      "key: (2, 3), solution: OTTOutput[shape=(20, 20), cost=0.39, converged=True]\n"
     ]
    }
   ],
   "source": [
    "tp = tp.add_problem((2, 3), extracted_problem, overwrite=True)\n",
    "for key, subprob in tp.problems.items():\n",
    "    print(f\"key: {key}, solution: {subprob.solution}\")"
   ]
  }
 ],
 "metadata": {
  "jupytext": {
   "cell_metadata_filter": "-all",
   "executable": "/usr/bin/env python",
   "main_language": "python",
   "notebook_metadata_filter": "-all"
  },
  "kernelspec": {
   "display_name": "Python 3 (ipykernel)",
   "language": "python",
   "name": "python3"
  },
  "language_info": {
   "codemirror_mode": {
    "name": "ipython",
    "version": 3
   },
   "file_extension": ".py",
   "mimetype": "text/x-python",
   "name": "python",
   "nbconvert_exporter": "python",
   "pygments_lexer": "ipython3",
   "version": "3.9.19"
  }
 },
 "nbformat": 4,
 "nbformat_minor": 5
}
