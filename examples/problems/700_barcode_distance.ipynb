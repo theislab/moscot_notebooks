{
 "cells": [
  {
   "cell_type": "markdown",
   "id": "2fd3c652",
   "metadata": {},
   "source": [
    "# Including barcode information via barcode distances\n",
    "\n",
    "This example shows how to incorporate lineage information obtained from barcodes in the\n",
    "{class}`~moscot.problems.time.LineageProblem`.\n",
    "Check out [moslin](https://github.com/theislab/moslin) {cite}`lange-moslin:23` for examples on real-world data.\n",
    "\n",
    ":::{seealso}\n",
    "- TODO: link to other relevant examples\n",
    ":::"
   ]
  },
  {
   "cell_type": "markdown",
   "id": "4c01e37a",
   "metadata": {},
   "source": [
    "## Imports and data loading"
   ]
  },
  {
   "cell_type": "code",
   "execution_count": 1,
   "id": "762e1768",
   "metadata": {},
   "outputs": [],
   "source": [
    "from moscot import datasets\n",
    "from moscot.problems.time import LineageProblem"
   ]
  },
  {
   "cell_type": "markdown",
   "id": "0ce146c1",
   "metadata": {},
   "source": [
    "Simulate data using {func}`~moscot.datasets.simulate_data`."
   ]
  },
  {
   "cell_type": "code",
   "execution_count": 2,
   "id": "0156644a",
   "metadata": {},
   "outputs": [
    {
     "data": {
      "text/plain": [
       "AnnData object with n_obs × n_vars = 60 × 60\n",
       "    obs: 'day', 'celltype'\n",
       "    obsm: 'barcode'"
      ]
     },
     "execution_count": 2,
     "metadata": {},
     "output_type": "execute_result"
    }
   ],
   "source": [
    "adata = datasets.simulate_data(n_distributions=3, key=\"day\", quad_term=\"barcode\")\n",
    "adata"
   ]
  },
  {
   "cell_type": "markdown",
   "id": "520831bb",
   "metadata": {},
   "source": [
    "We assume barcodes are saved in {attr}`~anndata.AnnData.obsm`."
   ]
  },
  {
   "cell_type": "code",
   "execution_count": 3,
   "id": "57e9c1cd",
   "metadata": {},
   "outputs": [
    {
     "data": {
      "text/plain": [
       "array([[ 1,  8,  0, 12, 18, 15, 11, 16, 13,  9],\n",
       "       [ 7, 19,  6,  1, 11,  8,  4, 15, 19,  1],\n",
       "       [10,  7,  3, 14, 15,  4, 11,  4,  0,  7],\n",
       "       [10, 19,  1, 18,  0, 14, 13,  5,  2, 12],\n",
       "       [ 2, 18,  1, 14, 17,  9, 12,  7,  3, 15],\n",
       "       [ 1,  7, 11,  7, 10,  8, 14, 19,  9, 16],\n",
       "       [ 9, 13,  5,  5, 13,  9,  2, 15,  0,  4],\n",
       "       [ 8,  6,  1,  7, 10, 12, 13,  8, 12, 16],\n",
       "       [ 3,  5, 10,  8,  5,  0,  1,  2,  9, 14],\n",
       "       [ 7, 11,  5,  2,  2,  4, 14,  0, 10,  5]])"
      ]
     },
     "execution_count": 3,
     "metadata": {},
     "output_type": "execute_result"
    }
   ],
   "source": [
    "adata.obsm[\"barcode\"][:10, :]"
   ]
  },
  {
   "cell_type": "markdown",
   "id": "63b8d413",
   "metadata": {},
   "source": [
    "## Barcode distance\n",
    "\n",
    "Now, we can instantiate and prepare the {class}`~moscot.problems.time.LineageProblem` by specifying the cost."
   ]
  },
  {
   "cell_type": "code",
   "execution_count": 4,
   "id": "9066185a",
   "metadata": {},
   "outputs": [
    {
     "name": "stdout",
     "output_type": "stream",
     "text": [
      "\u001b[34mINFO    \u001b[0m Computing pca with `\u001b[33mn_comps\u001b[0m=\u001b[1;36m30\u001b[0m` for `xy` using `adata.X`                                                  \n",
      "\u001b[34mINFO    \u001b[0m Computing pca with `\u001b[33mn_comps\u001b[0m=\u001b[1;36m30\u001b[0m` for `xy` using `adata.X`                                                  \n"
     ]
    }
   ],
   "source": [
    "lp = LineageProblem(adata)\n",
    "lp = lp.prepare(\n",
    "    time_key=\"day\",\n",
    "    lineage_attr={\"attr\": \"obsm\", \"key\": \"barcode\"},\n",
    "    cost={\"x\": \"barcode_distance\", \"y\": \"barcode_distance\", \"xy\": \"sq_euclidean\"},\n",
    ")"
   ]
  },
  {
   "cell_type": "markdown",
   "id": "924ccfe7",
   "metadata": {
    "lines_to_next_cell": 0
   },
   "source": [
    "Internally, cost matrices have been computed from the trees using the [hamming](https://en.wikipedia.org/wiki/Hamming_distance) distance between barcodes. Let us investigate the first few entries of the cost matrix computed from the barcodes."
   ]
  },
  {
   "cell_type": "code",
   "execution_count": 5,
   "id": "05907023",
   "metadata": {},
   "outputs": [
    {
     "data": {
      "text/plain": [
       "array([[0. , 1.9, 1.6, 1.8, 1.9],\n",
       "       [1.9, 0. , 1.9, 1.7, 2. ],\n",
       "       [1.6, 1.9, 0. , 1.6, 1.7],\n",
       "       [1.8, 1.7, 1.6, 0. , 1.7],\n",
       "       [1.9, 2. , 1.7, 1.7, 0. ]])"
      ]
     },
     "execution_count": 5,
     "metadata": {},
     "output_type": "execute_result"
    }
   ],
   "source": [
    "lp[0, 1].x.data_src[:5, :5]"
   ]
  },
  {
   "cell_type": "markdown",
   "id": "e22f1823",
   "metadata": {
    "lines_to_next_cell": 0
   },
   "source": [
    "Similarly, we investigate parts of the cost matrix from the lineage tree corresponding to time point 1."
   ]
  },
  {
   "cell_type": "code",
   "execution_count": 6,
   "id": "79e8bda0",
   "metadata": {},
   "outputs": [
    {
     "data": {
      "text/plain": [
       "array([[0. , 1.8, 2. , 1.8, 2. ],\n",
       "       [1.8, 0. , 2. , 1.6, 1.8],\n",
       "       [2. , 2. , 0. , 1.8, 2. ],\n",
       "       [1.8, 1.6, 1.8, 0. , 2. ],\n",
       "       [2. , 1.8, 2. , 2. , 0. ]])"
      ]
     },
     "execution_count": 6,
     "metadata": {},
     "output_type": "execute_result"
    }
   ],
   "source": [
    "lp[0, 1].y.data_src[:5, :5]"
   ]
  },
  {
   "cell_type": "markdown",
   "id": "93fd321b",
   "metadata": {
    "lines_to_next_cell": 0
   },
   "source": [
    "Note that the gene expression term is still saved as two point clouds. The corresponding cost matrix will be computed by the backend."
   ]
  },
  {
   "cell_type": "code",
   "execution_count": 7,
   "id": "5c6d7e72",
   "metadata": {},
   "outputs": [
    {
     "data": {
      "text/plain": [
       "((20, 30), (20, 30))"
      ]
     },
     "execution_count": 7,
     "metadata": {},
     "output_type": "execute_result"
    }
   ],
   "source": [
    "lp[0, 1].xy.data_src.shape, lp[0, 1].xy.data_tgt.shape"
   ]
  }
 ],
 "metadata": {
  "jupytext": {
   "cell_metadata_filter": "-all",
   "executable": "/usr/bin/env python",
   "main_language": "python",
   "notebook_metadata_filter": "-all"
  },
  "kernelspec": {
   "display_name": "Python 3.10.10 ('moscot_env7')",
   "language": "python",
   "name": "python3"
  },
  "language_info": {
   "codemirror_mode": {
    "name": "ipython",
    "version": 3
   },
   "file_extension": ".py",
   "mimetype": "text/x-python",
   "name": "python",
   "nbconvert_exporter": "python",
   "pygments_lexer": "ipython3",
   "version": "3.10.10"
  },
  "vscode": {
   "interpreter": {
    "hash": "4102889b8020e11d122425d01958cdd1c06b5284718971a67e86c7dcecee7eb2"
   }
  }
 },
 "nbformat": 4,
 "nbformat_minor": 5
}
