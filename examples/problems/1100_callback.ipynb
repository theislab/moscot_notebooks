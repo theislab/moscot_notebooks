{
 "cells": [
  {
   "cell_type": "markdown",
   "metadata": {},
   "source": [
    "# Passing callbacks in {meth}`~moscot.problems.space.MappingProblem.prepare`\n",
    "\n",
    "In this example, we show how to use different callbacks.\n",
    "\n",
    "The `callback` argument states which computation should be run on {attr}`~anndata.AnnData.X` to get the joint cost when preparing the problem. Callbacks can be set for different terms - linear (`xy_callback`) and quadratic (`x_callback`, `y_callback`).\n",
    "\n",
    ":::{seealso}\n",
    "- See {doc}`200_custom_cost_matrices` for an example on how to use custom matrices and pass `joint_attr`, `x_attr` and `y_attr` in the {meth}`~moscot.problems.generic.FGWProblem.prepare` method.\n",
    "- See {doc}`700_barcode_distance` for an example on how to specify the cost to use barcode distance.\n",
    ":::"
   ]
  },
  {
   "cell_type": "markdown",
   "metadata": {},
   "source": [
    "## Imports and data loading"
   ]
  },
  {
   "cell_type": "code",
   "execution_count": 1,
   "metadata": {},
   "outputs": [],
   "source": [
    "import warnings\n",
    "\n",
    "warnings.simplefilter(action=\"ignore\", category=UserWarning)\n",
    "warnings.simplefilter(action=\"ignore\", category=FutureWarning)\n",
    "\n",
    "from moscot import datasets\n",
    "from moscot.problems.space import MappingProblem\n",
    "from moscot.utils.tagged_array import TaggedArray\n",
    "\n",
    "import numpy as np\n",
    "import pandas as pd\n",
    "from sklearn.decomposition import SparsePCA\n",
    "\n",
    "import anndata\n",
    "import scanpy as sc"
   ]
  },
  {
   "cell_type": "code",
   "execution_count": 2,
   "metadata": {},
   "outputs": [
    {
     "data": {
      "text/plain": [
       "(AnnData object with n_obs × n_vars = 1297 × 2000\n",
       "     obs: 'n_counts'\n",
       "     var: 'n_counts', 'highly_variable', 'highly_variable_rank', 'means', 'variances', 'variances_norm'\n",
       "     uns: 'hvg', 'log1p', 'pca'\n",
       "     obsm: 'X_pca'\n",
       "     varm: 'PCs'\n",
       "     layers: 'counts',\n",
       " AnnData object with n_obs × n_vars = 3039 × 82\n",
       "     obs: 'n_counts'\n",
       "     var: 'n_counts'\n",
       "     uns: 'log1p', 'pca'\n",
       "     obsm: 'X_pca', 'spatial'\n",
       "     varm: 'PCs'\n",
       "     layers: 'counts')"
      ]
     },
     "execution_count": 2,
     "metadata": {},
     "output_type": "execute_result"
    }
   ],
   "source": [
    "adata_sc = datasets.drosophila(spatial=False)\n",
    "adata_sp = datasets.drosophila(spatial=True)\n",
    "adata_sc, adata_sp"
   ]
  },
  {
   "cell_type": "markdown",
   "metadata": {},
   "source": [
    "## Spatial normalization"
   ]
  },
  {
   "cell_type": "markdown",
   "metadata": {},
   "source": [
    "When `normalize_spatial=True` is passed, as it is by default, the spatial coordinates are normalized by standardizing them."
   ]
  },
  {
   "cell_type": "code",
   "execution_count": 3,
   "metadata": {},
   "outputs": [
    {
     "name": "stdout",
     "output_type": "stream",
     "text": [
      "\u001b[34mINFO    \u001b[0m Computing pca with `\u001b[33mn_comps\u001b[0m=\u001b[1;36m30\u001b[0m` for `xy` using `adata.X`                                                  \n",
      "\u001b[34mINFO    \u001b[0m Normalizing spatial coordinates of `x`.                                                                   \n"
     ]
    }
   ],
   "source": [
    "mp = MappingProblem(adata_sc=adata_sc, adata_sp=adata_sp)\n",
    "mp = mp.prepare(sc_attr={\"attr\": \"obsm\", \"key\": \"X_pca\"}, normalize_spatial=True)"
   ]
  },
  {
   "cell_type": "code",
   "execution_count": 4,
   "metadata": {},
   "outputs": [
    {
     "data": {
      "text/plain": [
       "1.0000000000000002"
      ]
     },
     "execution_count": 4,
     "metadata": {},
     "output_type": "execute_result"
    }
   ],
   "source": [
    "mp[(\"src\", \"tgt\")].x.data_src.std()"
   ]
  },
  {
   "cell_type": "code",
   "execution_count": 5,
   "metadata": {},
   "outputs": [
    {
     "name": "stdout",
     "output_type": "stream",
     "text": [
      "\u001b[34mINFO    \u001b[0m Computing pca with `\u001b[33mn_comps\u001b[0m=\u001b[1;36m30\u001b[0m` for `xy` using `adata.X`                                                  \n"
     ]
    }
   ],
   "source": [
    "mp = mp.prepare(sc_attr={\"attr\": \"obsm\", \"key\": \"X_pca\"}, normalize_spatial=False)"
   ]
  },
  {
   "cell_type": "code",
   "execution_count": 6,
   "metadata": {},
   "outputs": [
    {
     "data": {
      "text/plain": [
       "66.97163996056013"
      ]
     },
     "execution_count": 6,
     "metadata": {},
     "output_type": "execute_result"
    }
   ],
   "source": [
    "mp[(\"src\", \"tgt\")].x.data_src.std()"
   ]
  },
  {
   "cell_type": "markdown",
   "metadata": {},
   "source": [
    "The `normalize_spatial` argument effectively uses the `\"spatial-norm\"` callback."
   ]
  },
  {
   "cell_type": "markdown",
   "metadata": {},
   "source": [
    "## Passing callbacks"
   ]
  },
  {
   "cell_type": "markdown",
   "metadata": {},
   "source": [
    "### PCA computation in gene space"
   ]
  },
  {
   "cell_type": "markdown",
   "metadata": {},
   "source": [
    "To create a joint PCA embedding between two sets of genes, we compute the PCA embedding for pairs of distributions by passing `xy_callback=\"local-pca\"` to run on {attr}`~anndata.AnnData.X`."
   ]
  },
  {
   "cell_type": "code",
   "execution_count": 7,
   "metadata": {},
   "outputs": [
    {
     "name": "stdout",
     "output_type": "stream",
     "text": [
      "\u001b[34mINFO    \u001b[0m Computing pca with `\u001b[33mn_comps\u001b[0m=\u001b[1;36m30\u001b[0m` for `xy` using `adata.X`                                                  \n"
     ]
    },
    {
     "name": "stdout",
     "output_type": "stream",
     "text": [
      "\u001b[34mINFO    \u001b[0m Normalizing spatial coordinates of `x`.                                                                   \n"
     ]
    }
   ],
   "source": [
    "mp = mp.prepare(\n",
    "    sc_attr={\"attr\": \"obsm\", \"key\": \"X_pca\"},\n",
    "    xy_callback=\"local-pca\",\n",
    ")"
   ]
  },
  {
   "cell_type": "markdown",
   "metadata": {},
   "source": [
    "The callback creates a point cloud that contains PCA projections of the data."
   ]
  },
  {
   "cell_type": "code",
   "execution_count": 8,
   "metadata": {},
   "outputs": [
    {
     "data": {
      "text/plain": [
       "<Tag.POINT_CLOUD: 'point_cloud'>"
      ]
     },
     "execution_count": 8,
     "metadata": {},
     "output_type": "execute_result"
    }
   ],
   "source": [
    "mp[(\"src\", \"tgt\")].xy.tag"
   ]
  },
  {
   "cell_type": "code",
   "execution_count": 9,
   "metadata": {},
   "outputs": [
    {
     "name": "stdout",
     "output_type": "stream",
     "text": [
      "\u001b[34mINFO    \u001b[0m Solving `\u001b[1;36m1\u001b[0m` problems                                                                                      \n",
      "\u001b[34mINFO    \u001b[0m Solving problem OTProblem\u001b[1m[\u001b[0m\u001b[33mstage\u001b[0m=\u001b[32m'prepared'\u001b[0m, \u001b[33mshape\u001b[0m=\u001b[1m(\u001b[0m\u001b[1;36m3039\u001b[0m, \u001b[1;36m1297\u001b[0m\u001b[1m)\u001b[0m\u001b[1m]\u001b[0m.                                          \n"
     ]
    },
    {
     "data": {
      "text/plain": [
       "{('src', 'tgt'): OTTOutput[shape=(3039, 1297), cost=1.6444, converged=True]}"
      ]
     },
     "execution_count": 9,
     "metadata": {},
     "output_type": "execute_result"
    }
   ],
   "source": [
    "mp.solve()\n",
    "mp.solutions"
   ]
  },
  {
   "cell_type": "markdown",
   "metadata": {},
   "source": [
    "### Using geodesic costs"
   ]
  },
  {
   "cell_type": "markdown",
   "metadata": {},
   "source": [
    "To use geodesic costs defined on a graph, we can create the underlying graph (here in gene expression space) using `xy_callback=\"graph-construction\"`. Note that the `cost` has to be set explicitly."
   ]
  },
  {
   "cell_type": "code",
   "execution_count": 10,
   "metadata": {},
   "outputs": [
    {
     "name": "stdout",
     "output_type": "stream",
     "text": [
      "\u001b[34mINFO    \u001b[0m Computing graph construction for `xy` using `X_pca`                                                       \n"
     ]
    }
   ],
   "source": [
    "mp = mp.prepare(\n",
    "    sc_attr={\"attr\": \"obsm\", \"key\": \"X_pca\"},\n",
    "    normalize_spatial=False,\n",
    "    xy_callback=\"graph-construction\",\n",
    "    cost={\"xy\": \"geodesic\", \"x\": \"sq_euclidean\", \"y\": \"sq_euclidean\"},\n",
    ")"
   ]
  },
  {
   "cell_type": "markdown",
   "metadata": {},
   "source": [
    "and verify a graph has been constructed:"
   ]
  },
  {
   "cell_type": "code",
   "execution_count": 11,
   "metadata": {},
   "outputs": [
    {
     "data": {
      "text/plain": [
       "<Tag.GRAPH: 'graph'>"
      ]
     },
     "execution_count": 11,
     "metadata": {},
     "output_type": "execute_result"
    }
   ],
   "source": [
    "mp[(\"src\", \"tgt\")].xy.tag"
   ]
  },
  {
   "cell_type": "code",
   "execution_count": 12,
   "metadata": {},
   "outputs": [
    {
     "name": "stdout",
     "output_type": "stream",
     "text": [
      "\u001b[34mINFO    \u001b[0m Solving `\u001b[1;36m1\u001b[0m` problems                                                                                      \n",
      "\u001b[34mINFO    \u001b[0m Solving problem OTProblem\u001b[1m[\u001b[0m\u001b[33mstage\u001b[0m=\u001b[32m'prepared'\u001b[0m, \u001b[33mshape\u001b[0m=\u001b[1m(\u001b[0m\u001b[1;36m3039\u001b[0m, \u001b[1;36m1297\u001b[0m\u001b[1m)\u001b[0m\u001b[1m]\u001b[0m.                                          \n"
     ]
    },
    {
     "data": {
      "text/plain": [
       "{('src', 'tgt'): OTTOutput[shape=(3039, 1297), cost=1.3147, converged=True]}"
      ]
     },
     "execution_count": 12,
     "metadata": {},
     "output_type": "execute_result"
    }
   ],
   "source": [
    "mp.solve()\n",
    "mp.solutions"
   ]
  },
  {
   "cell_type": "markdown",
   "metadata": {},
   "source": [
    "Or use {meth}`~moscot.base.problems.OTProblem.set_graph_xy` with a custom graph:"
   ]
  },
  {
   "cell_type": "code",
   "execution_count": 13,
   "metadata": {},
   "outputs": [],
   "source": [
    "adata_concat = anndata.concat([adata_sp, adata_sc])\n",
    "sc.pp.neighbors(adata_concat, use_rep=\"X_pca\")\n",
    "df_graph = pd.DataFrame(\n",
    "    index=adata_concat.obs_names,\n",
    "    columns=adata_concat.obs_names,\n",
    "    data=adata_concat.obsp[\"connectivities\"].A.astype(\"float64\"),\n",
    ")"
   ]
  },
  {
   "cell_type": "markdown",
   "metadata": {},
   "source": [
    "First, the problem is prepared with the default (`\"sq_euclidean\"`) cost, and it is then overwritten by {meth}`~moscot.base.problems.OTProblem.set_graph_xy`:"
   ]
  },
  {
   "cell_type": "code",
   "execution_count": 14,
   "metadata": {},
   "outputs": [
    {
     "name": "stdout",
     "output_type": "stream",
     "text": [
      "\u001b[34mINFO    \u001b[0m Computing pca with `\u001b[33mn_comps\u001b[0m=\u001b[1;36m30\u001b[0m` for `xy` using `adata.X`                                                  \n"
     ]
    }
   ],
   "source": [
    "mp = mp.prepare(\n",
    "    sc_attr={\"attr\": \"obsm\", \"key\": \"X_pca\"},\n",
    "    normalize_spatial=False,\n",
    ")\n",
    "mp[(\"src\", \"tgt\")].set_graph_xy(df_graph, cost=\"geodesic\")"
   ]
  },
  {
   "cell_type": "code",
   "execution_count": 15,
   "metadata": {},
   "outputs": [
    {
     "data": {
      "text/plain": [
       "<Tag.GRAPH: 'graph'>"
      ]
     },
     "execution_count": 15,
     "metadata": {},
     "output_type": "execute_result"
    }
   ],
   "source": [
    "mp[(\"src\", \"tgt\")].xy.tag"
   ]
  },
  {
   "cell_type": "code",
   "execution_count": 16,
   "metadata": {},
   "outputs": [
    {
     "name": "stdout",
     "output_type": "stream",
     "text": [
      "\u001b[34mINFO    \u001b[0m Solving `\u001b[1;36m1\u001b[0m` problems                                                                                      \n",
      "\u001b[34mINFO    \u001b[0m Solving problem OTProblem\u001b[1m[\u001b[0m\u001b[33mstage\u001b[0m=\u001b[32m'prepared'\u001b[0m, \u001b[33mshape\u001b[0m=\u001b[1m(\u001b[0m\u001b[1;36m3039\u001b[0m, \u001b[1;36m1297\u001b[0m\u001b[1m)\u001b[0m\u001b[1m]\u001b[0m.                                          \n"
     ]
    },
    {
     "data": {
      "text/plain": [
       "{('src', 'tgt'): OTTOutput[shape=(3039, 1297), cost=1.3147, converged=True]}"
      ]
     },
     "execution_count": 16,
     "metadata": {},
     "output_type": "execute_result"
    }
   ],
   "source": [
    "mp.solve()\n",
    "mp.solutions"
   ]
  },
  {
   "cell_type": "markdown",
   "metadata": {},
   "source": [
    "### Custom callback function"
   ]
  },
  {
   "cell_type": "markdown",
   "metadata": {},
   "source": [
    "A callable can also be passed to be used as a custom callback. In this example we will use the scikit-learn [`SparsePCA()`](https://scikit-learn.org/stable/modules/generated/sklearn.decomposition.SparsePCA.html#) function."
   ]
  },
  {
   "cell_type": "markdown",
   "metadata": {},
   "source": [
    "The callback function receives `term: Literal[\"xy\", \"x\", \"y\"], problem.adata_src, problem.adata_tgt` as arguments, as well as any keyword arguments passed in `xy_callback_kwargs`. It should return a {class}`moscot.utils.tagged_array.TaggedArray`."
   ]
  },
  {
   "cell_type": "code",
   "execution_count": 17,
   "metadata": {},
   "outputs": [],
   "source": [
    "mp = mp.prepare(\n",
    "    sc_attr={\"attr\": \"obsm\", \"key\": \"X_pca\"},\n",
    "    normalize_spatial=False,\n",
    "    xy_callback=lambda term, src, tgt: TaggedArray(\n",
    "        *np.split(\n",
    "            SparsePCA().fit_transform(np.vstack([src.X.A, tgt.X.A])), [src.shape[0]]\n",
    "        )\n",
    "    ),\n",
    ")"
   ]
  },
  {
   "cell_type": "code",
   "execution_count": 18,
   "metadata": {},
   "outputs": [
    {
     "data": {
      "text/plain": [
       "<Tag.POINT_CLOUD: 'point_cloud'>"
      ]
     },
     "execution_count": 18,
     "metadata": {},
     "output_type": "execute_result"
    }
   ],
   "source": [
    "mp[(\"src\", \"tgt\")].xy.tag"
   ]
  },
  {
   "cell_type": "code",
   "execution_count": 19,
   "metadata": {},
   "outputs": [
    {
     "name": "stdout",
     "output_type": "stream",
     "text": [
      "\u001b[34mINFO    \u001b[0m Solving `\u001b[1;36m1\u001b[0m` problems                                                                                      \n",
      "\u001b[34mINFO    \u001b[0m Solving problem OTProblem\u001b[1m[\u001b[0m\u001b[33mstage\u001b[0m=\u001b[32m'prepared'\u001b[0m, \u001b[33mshape\u001b[0m=\u001b[1m(\u001b[0m\u001b[1;36m3039\u001b[0m, \u001b[1;36m1297\u001b[0m\u001b[1m)\u001b[0m\u001b[1m]\u001b[0m.                                          \n"
     ]
    },
    {
     "data": {
      "text/plain": [
       "{('src', 'tgt'): OTTOutput[shape=(3039, 1297), cost=1.6591, converged=True]}"
      ]
     },
     "execution_count": 19,
     "metadata": {},
     "output_type": "execute_result"
    }
   ],
   "source": [
    "mp.solve()\n",
    "mp.solutions"
   ]
  }
 ],
 "metadata": {
  "kernelspec": {
   "display_name": "moscot",
   "language": "python",
   "name": "python3"
  },
  "language_info": {
   "codemirror_mode": {
    "name": "ipython",
    "version": 3
   },
   "file_extension": ".py",
   "mimetype": "text/x-python",
   "name": "python",
   "nbconvert_exporter": "python",
   "pygments_lexer": "ipython3",
   "version": "3.11.5"
  }
 },
 "nbformat": 4,
 "nbformat_minor": 2
}
