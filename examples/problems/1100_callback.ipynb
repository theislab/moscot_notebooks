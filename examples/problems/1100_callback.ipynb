{
 "cells": [
  {
   "cell_type": "markdown",
   "metadata": {},
   "source": [
    "# Passing callbacks\n",
    "\n",
    "In this example, we show how to use different callbacks.\n",
    "\n",
    ":::{seealso}\n",
    ":::"
   ]
  },
  {
   "cell_type": "markdown",
   "metadata": {},
   "source": [
    "## Imports and data loading"
   ]
  },
  {
   "cell_type": "code",
   "execution_count": 5,
   "metadata": {},
   "outputs": [],
   "source": [
    "import warnings\n",
    "\n",
    "warnings.simplefilter(action=\"ignore\", category=FutureWarning)\n",
    "\n",
    "from moscot import datasets\n",
    "from moscot.problems.space import AlignmentProblem"
   ]
  },
  {
   "cell_type": "code",
   "execution_count": 3,
   "metadata": {},
   "outputs": [
    {
     "data": {
      "text/plain": [
       "AnnData object with n_obs × n_vars = 1200 × 500\n",
       "    obs: 'batch'\n",
       "    uns: 'batch_colors'\n",
       "    obsm: 'spatial'"
      ]
     },
     "execution_count": 3,
     "metadata": {},
     "output_type": "execute_result"
    }
   ],
   "source": [
    "adata = datasets.sim_align()\n",
    "adata"
   ]
  },
  {
   "cell_type": "markdown",
   "metadata": {},
   "source": [
    "When `normalize_spatial=True` is passed, the spatial coordinates are normalized by standardizing them."
   ]
  },
  {
   "cell_type": "code",
   "execution_count": 8,
   "metadata": {},
   "outputs": [
    {
     "name": "stdout",
     "output_type": "stream",
     "text": [
      "\u001b[34mINFO    \u001b[0m Ordering \u001b[1;35mIndex\u001b[0m\u001b[1m(\u001b[0m\u001b[1m[\u001b[0m\u001b[32m'400'\u001b[0m, \u001b[32m'401'\u001b[0m, \u001b[32m'402'\u001b[0m, \u001b[32m'403'\u001b[0m, \u001b[32m'404'\u001b[0m, \u001b[32m'405'\u001b[0m, \u001b[32m'406'\u001b[0m, \u001b[32m'407'\u001b[0m, \u001b[32m'408'\u001b[0m, \u001b[32m'409'\u001b[0m,                     \n",
      "                \u001b[33m...\u001b[0m                                                                                                \n",
      "                \u001b[32m'390-1'\u001b[0m, \u001b[32m'391-1'\u001b[0m, \u001b[32m'392-1'\u001b[0m, \u001b[32m'393-1'\u001b[0m, \u001b[32m'394-1'\u001b[0m, \u001b[32m'395-1'\u001b[0m, \u001b[32m'396-1'\u001b[0m, \u001b[32m'397-1'\u001b[0m,                            \n",
      "                \u001b[32m'398-1'\u001b[0m, \u001b[32m'399-1'\u001b[0m\u001b[1m]\u001b[0m,                                                                                 \n",
      "               \u001b[33mdtype\u001b[0m=\u001b[32m'object'\u001b[0m, \u001b[33mlength\u001b[0m=\u001b[1;36m1200\u001b[0m\u001b[1m)\u001b[0m in ascending order.                                                    \n",
      "\u001b[34mINFO    \u001b[0m Computing pca with `\u001b[33mn_comps\u001b[0m=\u001b[1;36m30\u001b[0m` for `xy` using `adata.X`                                                  \n",
      "\u001b[34mINFO    \u001b[0m Normalizing spatial coordinates of `x`.                                                                   \n",
      "\u001b[34mINFO    \u001b[0m Normalizing spatial coordinates of `y`.                                                                   \n",
      "\u001b[34mINFO    \u001b[0m Computing pca with `\u001b[33mn_comps\u001b[0m=\u001b[1;36m30\u001b[0m` for `xy` using `adata.X`                                                  \n",
      "\u001b[34mINFO    \u001b[0m Normalizing spatial coordinates of `x`.                                                                   \n",
      "\u001b[34mINFO    \u001b[0m Normalizing spatial coordinates of `y`.                                                                   \n"
     ]
    }
   ],
   "source": [
    "ap = AlignmentProblem(adata=adata)\n",
    "ap = ap.prepare(batch_key=\"batch\", policy=\"sequential\", normalize_spatial=True)"
   ]
  },
  {
   "cell_type": "code",
   "execution_count": 10,
   "metadata": {},
   "outputs": [
    {
     "data": {
      "text/plain": [
       "True"
      ]
     },
     "execution_count": 10,
     "metadata": {},
     "output_type": "execute_result"
    }
   ],
   "source": [
    "ap[(\"1\", \"2\")].x.data_src.std() == 1"
   ]
  },
  {
   "cell_type": "code",
   "execution_count": 11,
   "metadata": {},
   "outputs": [
    {
     "name": "stdout",
     "output_type": "stream",
     "text": [
      "\u001b[34mINFO    \u001b[0m Ordering \u001b[1;35mIndex\u001b[0m\u001b[1m(\u001b[0m\u001b[1m[\u001b[0m\u001b[32m'400'\u001b[0m, \u001b[32m'401'\u001b[0m, \u001b[32m'402'\u001b[0m, \u001b[32m'403'\u001b[0m, \u001b[32m'404'\u001b[0m, \u001b[32m'405'\u001b[0m, \u001b[32m'406'\u001b[0m, \u001b[32m'407'\u001b[0m, \u001b[32m'408'\u001b[0m, \u001b[32m'409'\u001b[0m,                     \n",
      "                \u001b[33m...\u001b[0m                                                                                                \n",
      "                \u001b[32m'390-1'\u001b[0m, \u001b[32m'391-1'\u001b[0m, \u001b[32m'392-1'\u001b[0m, \u001b[32m'393-1'\u001b[0m, \u001b[32m'394-1'\u001b[0m, \u001b[32m'395-1'\u001b[0m, \u001b[32m'396-1'\u001b[0m, \u001b[32m'397-1'\u001b[0m,                            \n",
      "                \u001b[32m'398-1'\u001b[0m, \u001b[32m'399-1'\u001b[0m\u001b[1m]\u001b[0m,                                                                                 \n",
      "               \u001b[33mdtype\u001b[0m=\u001b[32m'object'\u001b[0m, \u001b[33mlength\u001b[0m=\u001b[1;36m1200\u001b[0m\u001b[1m)\u001b[0m in ascending order.                                                    \n",
      "\u001b[34mINFO    \u001b[0m Computing pca with `\u001b[33mn_comps\u001b[0m=\u001b[1;36m30\u001b[0m` for `xy` using `adata.X`                                                  \n",
      "\u001b[34mINFO    \u001b[0m Computing pca with `\u001b[33mn_comps\u001b[0m=\u001b[1;36m30\u001b[0m` for `xy` using `adata.X`                                                  \n"
     ]
    }
   ],
   "source": [
    "ap = ap.prepare(batch_key=\"batch\", policy=\"sequential\", normalize_spatial=False)"
   ]
  },
  {
   "cell_type": "code",
   "execution_count": 12,
   "metadata": {},
   "outputs": [
    {
     "data": {
      "text/plain": [
       "False"
      ]
     },
     "execution_count": 12,
     "metadata": {},
     "output_type": "execute_result"
    }
   ],
   "source": [
    "ap[(\"1\", \"2\")].x.data_src.std() == 1"
   ]
  },
  {
   "cell_type": "code",
   "execution_count": null,
   "metadata": {},
   "outputs": [],
   "source": []
  }
 ],
 "metadata": {
  "kernelspec": {
   "display_name": "moscot",
   "language": "python",
   "name": "python3"
  },
  "language_info": {
   "codemirror_mode": {
    "name": "ipython",
    "version": 3
   },
   "file_extension": ".py",
   "mimetype": "text/x-python",
   "name": "python",
   "nbconvert_exporter": "python",
   "pygments_lexer": "ipython3",
   "version": "3.11.5"
  }
 },
 "nbformat": 4,
 "nbformat_minor": 2
}
