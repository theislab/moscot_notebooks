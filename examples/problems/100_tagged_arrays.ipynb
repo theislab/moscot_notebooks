{
 "cells": [
  {
   "attachments": {},
   "cell_type": "markdown",
   "id": "5b691235",
   "metadata": {},
   "source": [
    "# Tagged arrays\n",
    "\n",
    "This example shows how to use the {class}`~moscot.utils.tagged_array.TaggedArray`.\n",
    "\n",
    "{class}`~moscot.utils.tagged_array.TaggedArray` stores the data passed by the users in a unified way before it is passed to the backend.\n",
    "\n",
    ":::{seealso}\n",
    "- See {doc}`600_leaf_distance` on how to use lineage tree to compute leaf distance.\n",
    "- See {doc}`200_custom_cost_matrices` on how to pass precomputed cost matrices.\n",
    "- See {doc}`../solvers/300_quad_problems_basic` for an introduction on how to solve quadratic problems.\n",
    "- See {doc}`../solvers/400_quad_problems_advanced` for an advanced example on how to solve quadratic problems.\n",
    ":::"
   ]
  },
  {
   "attachments": {},
   "cell_type": "markdown",
   "id": "1b257ed8",
   "metadata": {},
   "source": [
    "## Imports and data loading"
   ]
  },
  {
   "cell_type": "code",
   "execution_count": 1,
   "id": "2b6100c8",
   "metadata": {},
   "outputs": [],
   "source": [
    "import warnings\n",
    "\n",
    "warnings.simplefilter(\"ignore\", FutureWarning)\n",
    "\n",
    "from moscot import datasets\n",
    "from moscot.problems.generic import FGWProblem\n",
    "\n",
    "import numpy as np\n",
    "import pandas as pd\n",
    "\n",
    "import scanpy as sc\n",
    "\n",
    "np.set_printoptions(threshold=1, precision=3)"
   ]
  },
  {
   "attachments": {},
   "cell_type": "markdown",
   "id": "1b4f7833",
   "metadata": {},
   "source": [
    "Simulate data using {func}`~moscot.datasets.simulate_data`."
   ]
  },
  {
   "cell_type": "code",
   "execution_count": 2,
   "id": "dec86f59",
   "metadata": {},
   "outputs": [
    {
     "data": {
      "text/plain": [
       "AnnData object with n_obs × n_vars = 40 × 60\n",
       "    obs: 'batch', 'celltype'\n",
       "    uns: 'pca'\n",
       "    obsm: 'X_pca'\n",
       "    varm: 'PCs'"
      ]
     },
     "execution_count": 2,
     "metadata": {},
     "output_type": "execute_result"
    }
   ],
   "source": [
    "adata = datasets.simulate_data(n_distributions=2, key=\"batch\")\n",
    "sc.pp.pca(adata)\n",
    "adata"
   ]
  },
  {
   "attachments": {},
   "cell_type": "markdown",
   "id": "768a0240",
   "metadata": {},
   "source": [
    "## Prepare the problem\n",
    "\n",
    "We instantiate and prepare a {class}`~moscot.problems.generic.FGWProblem` to demonstrate the role of the {class}`~moscot.utils.tagged_array.TaggedArray`."
   ]
  },
  {
   "cell_type": "code",
   "execution_count": 3,
   "id": "16f0c3a9",
   "metadata": {},
   "outputs": [],
   "source": [
    "fgw = FGWProblem(adata)\n",
    "fgw = fgw.prepare(key=\"batch\", x_attr=\"X_pca\", y_attr=\"X_pca\", joint_attr=\"X_pca\")"
   ]
  },
  {
   "attachments": {},
   "cell_type": "markdown",
   "id": "bc4d940a",
   "metadata": {},
   "source": [
    "The {class}`~moscot.base.problems.OTProblem` has attributes {attr}`~moscot.base.problems.OTProblem.xy`, {attr}`~moscot.base.problems.OTProblem.x`, and {attr}`~moscot.base.problems.OTProblem.y`, storing the data for the linear and quadratic term, respectively. These attributes are all {class}`TaggedArrays <moscot.utils.tagged_array.TaggedArray>`."
   ]
  },
  {
   "cell_type": "code",
   "execution_count": 4,
   "id": "820b9261",
   "metadata": {},
   "outputs": [
    {
     "data": {
      "text/plain": [
       "TaggedArray(data_src=ArrayView([[ 4.718, -0.162, -1.028, ...,  0.521, -0.039, -0.043],\n",
       "           [-1.683,  0.754, -2.114, ..., -0.348, -0.498, -0.051],\n",
       "           [ 0.119, -1.908,  2.526, ..., -0.536, -0.61 , -0.274],\n",
       "           ...,\n",
       "           [-1.764,  2.958, -0.065, ..., -0.659, -0.011,  0.067],\n",
       "           [-1.088,  3.231, -0.984, ..., -0.545, -0.262, -0.015],\n",
       "           [-1.471,  0.102, -0.997, ...,  0.234,  0.048, -0.021]],\n",
       "          dtype=float32), data_tgt=ArrayView([[-1.076, -3.572, -0.315, ...,  0.492, -0.226,  0.194],\n",
       "           [ 0.852, -1.033,  3.834, ...,  0.252, -0.115,  0.243],\n",
       "           [-0.411, -2.689, -1.863, ..., -0.347,  0.601,  0.005],\n",
       "           ...,\n",
       "           [ 2.024, -1.597, -0.591, ..., -0.114,  0.29 , -0.332],\n",
       "           [-0.938,  2.426, -0.128, ...,  0.194,  0.829, -0.438],\n",
       "           [ 2.709, -2.885, -0.925, ...,  0.315,  0.334,  0.078]],\n",
       "          dtype=float32), tag=<Tag.POINT_CLOUD: 'point_cloud'>, cost=<ott.geometry.costs.SqEuclidean object at 0x000002095006ED50>)"
      ]
     },
     "execution_count": 4,
     "metadata": {},
     "output_type": "execute_result"
    }
   ],
   "source": [
    "fgw[(\"0\", \"1\")].xy"
   ]
  },
  {
   "attachments": {},
   "cell_type": "markdown",
   "id": "dc175ad5",
   "metadata": {},
   "source": [
    "## Attributes\n",
    "\n",
    "Each {class}`~moscot.utils.tagged_array.TaggedArray` has attributes {attr}`~moscot.utils.tagged_array.TaggedArray.data_src`, {attr}`~moscot.utils.tagged_array.TaggedArray.data_tgt`, {attr}`~moscot.utils.tagged_array.TaggedArray.cost`, and {attr}`~moscot.utils.tagged_array.TaggedArray.tag`."
   ]
  },
  {
   "cell_type": "code",
   "execution_count": 5,
   "id": "7b70c639",
   "metadata": {},
   "outputs": [
    {
     "data": {
      "text/plain": [
       "(<Tag.POINT_CLOUD: 'point_cloud'>,\n",
       " <ott.geometry.costs.SqEuclidean at 0x2095006ed50>)"
      ]
     },
     "execution_count": 5,
     "metadata": {},
     "output_type": "execute_result"
    }
   ],
   "source": [
    "fgw[\"0\", \"1\"].xy.tag, fgw[\"0\", \"1\"].xy.cost"
   ]
  },
  {
   "attachments": {},
   "cell_type": "markdown",
   "id": "301499c5",
   "metadata": {},
   "source": [
    "The {attr}`~moscot.utils.tagged_array.TaggedArray.tag` attribute is of type {class}`~moscot.utils.tagged_array.Tag` and defines what kind of data is stored in the {class}`~moscot.utils.tagged_array.TaggedArray`.\n",
    "Possible tags are {attr}`cost_matrix <moscot.utils.tagged_array.Tag.COST_MATRIX>`, {attr}`kernel <moscot.utils.tagged_array.Tag.KERNEL>`, and {attr}`point_cloud <moscot.utils.tagged_array.Tag.POINT_CLOUD>`. Whenever `tag='point_cloud'`,\n",
    "the backend is expected to compute the cost on the fly. The {attr}`~moscot.utils.tagged_array.TaggedArray.cost` attribute should then specify which cost to compute from the point clouds.\n",
    "\n",
    "If the {class}`~moscot.utils.tagged_array.TaggedArray` corresponds to a linear term,\n",
    "{attr}`~moscot.utils.tagged_array.TaggedArray.data_src` and {attr}`~moscot.utils.tagged_array.TaggedArray.data_tgt`\n",
    "contain the point clouds of the source and the target distribution, respectively."
   ]
  },
  {
   "cell_type": "code",
   "execution_count": 6,
   "id": "e50ce79b",
   "metadata": {},
   "outputs": [
    {
     "data": {
      "text/plain": [
       "(ArrayView([[ 4.718, -0.162, -1.028, ...,  0.521, -0.039, -0.043],\n",
       "            [-1.683,  0.754, -2.114, ..., -0.348, -0.498, -0.051],\n",
       "            [ 0.119, -1.908,  2.526, ..., -0.536, -0.61 , -0.274],\n",
       "            ...,\n",
       "            [-1.764,  2.958, -0.065, ..., -0.659, -0.011,  0.067],\n",
       "            [-1.088,  3.231, -0.984, ..., -0.545, -0.262, -0.015],\n",
       "            [-1.471,  0.102, -0.997, ...,  0.234,  0.048, -0.021]],\n",
       "           dtype=float32),\n",
       " ArrayView([[-1.076, -3.572, -0.315, ...,  0.492, -0.226,  0.194],\n",
       "            [ 0.852, -1.033,  3.834, ...,  0.252, -0.115,  0.243],\n",
       "            [-0.411, -2.689, -1.863, ..., -0.347,  0.601,  0.005],\n",
       "            ...,\n",
       "            [ 2.024, -1.597, -0.591, ..., -0.114,  0.29 , -0.332],\n",
       "            [-0.938,  2.426, -0.128, ...,  0.194,  0.829, -0.438],\n",
       "            [ 2.709, -2.885, -0.925, ...,  0.315,  0.334,  0.078]],\n",
       "           dtype=float32))"
      ]
     },
     "execution_count": 6,
     "metadata": {},
     "output_type": "execute_result"
    }
   ],
   "source": [
    "fgw[\"0\", \"1\"].xy.data_src, fgw[\"0\", \"1\"].xy.data_tgt"
   ]
  },
  {
   "attachments": {},
   "cell_type": "markdown",
   "id": "14864f49",
   "metadata": {},
   "source": [
    "If the {class}`~moscot.utils.tagged_array.TaggedArray` corresponds to a quadratic term, the cost\n",
    "will be computed pairwise between points of the same distribution. Hence,\n",
    "{attr}`data_tgt is None <moscot.utils.tagged_array.TaggedArray.data_tgt>`."
   ]
  },
  {
   "cell_type": "code",
   "execution_count": 7,
   "id": "e3d67c03",
   "metadata": {},
   "outputs": [
    {
     "data": {
      "text/plain": [
       "(ArrayView([[ 4.718, -0.162, -1.028, ...,  0.521, -0.039, -0.043],\n",
       "            [-1.683,  0.754, -2.114, ..., -0.348, -0.498, -0.051],\n",
       "            [ 0.119, -1.908,  2.526, ..., -0.536, -0.61 , -0.274],\n",
       "            ...,\n",
       "            [-1.764,  2.958, -0.065, ..., -0.659, -0.011,  0.067],\n",
       "            [-1.088,  3.231, -0.984, ..., -0.545, -0.262, -0.015],\n",
       "            [-1.471,  0.102, -0.997, ...,  0.234,  0.048, -0.021]],\n",
       "           dtype=float32),\n",
       " None)"
      ]
     },
     "execution_count": 7,
     "metadata": {},
     "output_type": "execute_result"
    }
   ],
   "source": [
    "fgw[\"0\", \"1\"].x.data_src, fgw[\"0\", \"1\"].x.data_tgt"
   ]
  },
  {
   "attachments": {},
   "cell_type": "markdown",
   "id": "0dff23ae",
   "metadata": {},
   "source": [
    "## Modifying the tags\n",
    "\n",
    "Whenever the `tag='cost_matrix'`, the backend expects an instantiated cost matrix.\n",
    "There are two different cases to distinguish. First, the user might directly want to\n",
    "pass custom cost matrices, see {doc}`200_custom_cost_matrices` for more information. In this case, `cost='custom'` must be set.\n",
    "\n",
    "When setting custom cost matrices, e.g., via {meth}`~moscot.base.problems.OTProblem.set_xy`, the\n",
    "{class}`~moscot.utils.tagged_array.TaggedArray` will change its {attr}`~moscot.utils.tagged_array.TaggedArray.tag`.\n",
    "Before setting the custom cost matrix we still have `tag='point_cloud'` and\n",
    "{attr}`data_tgt is not None <moscot.utils.tagged_array.TaggedArray.data_tgt>`, as it contains\n",
    "the point cloud of the target distribution."
   ]
  },
  {
   "cell_type": "code",
   "execution_count": 8,
   "id": "9b1a71ba",
   "metadata": {},
   "outputs": [
    {
     "data": {
      "text/plain": [
       "(<Tag.POINT_CLOUD: 'point_cloud'>,\n",
       " ArrayView([[-1.076, -3.572, -0.315, ...,  0.492, -0.226,  0.194],\n",
       "            [ 0.852, -1.033,  3.834, ...,  0.252, -0.115,  0.243],\n",
       "            [-0.411, -2.689, -1.863, ..., -0.347,  0.601,  0.005],\n",
       "            ...,\n",
       "            [ 2.024, -1.597, -0.591, ..., -0.114,  0.29 , -0.332],\n",
       "            [-0.938,  2.426, -0.128, ...,  0.194,  0.829, -0.438],\n",
       "            [ 2.709, -2.885, -0.925, ...,  0.315,  0.334,  0.078]],\n",
       "           dtype=float32))"
      ]
     },
     "execution_count": 8,
     "metadata": {},
     "output_type": "execute_result"
    }
   ],
   "source": [
    "fgw[\"0\", \"1\"].xy.tag, fgw[\"0\", \"1\"].xy.data_tgt"
   ]
  },
  {
   "attachments": {},
   "cell_type": "markdown",
   "id": "c93f9912",
   "metadata": {},
   "source": [
    "We now construct a random custom cost matrix for the linear term."
   ]
  },
  {
   "cell_type": "code",
   "execution_count": 9,
   "id": "a723c855",
   "metadata": {},
   "outputs": [
    {
     "data": {
      "text/plain": [
       "(<Tag.COST_MATRIX: 'cost_matrix'>, None)"
      ]
     },
     "execution_count": 9,
     "metadata": {},
     "output_type": "execute_result"
    }
   ],
   "source": [
    "rng = np.random.default_rng(seed=42)\n",
    "obs_names_0 = fgw[\"0\", \"1\"].adata_src.obs_names\n",
    "obs_names_1 = fgw[\"0\", \"1\"].adata_tgt.obs_names\n",
    "\n",
    "cost_linear_01 = np.abs(rng.normal(size=(len(obs_names_0), len(obs_names_1))))\n",
    "cm_linear = pd.DataFrame(data=cost_linear_01, index=obs_names_0, columns=obs_names_1)\n",
    "\n",
    "fgw[\"0\", \"1\"].set_xy(cm_linear, tag=\"cost_matrix\")\n",
    "fgw[\"0\", \"1\"].xy.tag, fgw[\"0\", \"1\"].xy.data_tgt"
   ]
  }
 ],
 "metadata": {
  "jupytext": {
   "cell_metadata_filter": "-all",
   "executable": "/usr/bin/env python",
   "main_language": "python",
   "notebook_metadata_filter": "-all"
  },
  "kernelspec": {
   "display_name": "moscot",
   "language": "python",
   "name": "python3"
  },
  "language_info": {
   "codemirror_mode": {
    "name": "ipython",
    "version": 3
   },
   "file_extension": ".py",
   "mimetype": "text/x-python",
   "name": "python",
   "nbconvert_exporter": "python",
   "pygments_lexer": "ipython3",
   "version": "3.11.5"
  }
 },
 "nbformat": 4,
 "nbformat_minor": 5
}
